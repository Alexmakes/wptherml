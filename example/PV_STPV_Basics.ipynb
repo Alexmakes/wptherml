{
 "cells": [
  {
   "cell_type": "markdown",
   "metadata": {},
   "source": [
    "### Basic properties of hybrid PV/STPV\n",
    "One basic questions is \"can we increase the photon flux into the active layer in the energy range that can split excitons?\", where for 2D perovskite solar cells, we will consider this energy range to be between 0.35 and 0.38 $eV$ (3.2 - 3.5 $\\mu m$).\n",
    "\n",
    "To make this estimation, we will first compute the photon flux from the AM1.5 spectrum in this range; this is the number we have to exceed for such a device to be useful.\n",
    "\n",
    "Second, we will compute the steady state temperature of an IR absorber/emitter that can be placed in between the sun and the active PV layer; in this case we will use polystyrene.\n",
    "We will define the steady temperature as the temperature that balances the absorbed solar power with the emitted thermal radiation power:\n",
    "\\begin{equation}\n",
    "\\sigma_{abs,sol} = -\\sigma_{emit}.\n",
    "\\end{equation}\n",
    "We will define $\\sigma_{abs,sol}$ as\n",
    "\\begin{equation}\n",
    "\\sigma_{abs,sol} = \\int_0^{\\infty} AM_{1.5}(\\lambda) \\epsilon_{PS}(\\lambda) d\\lambda\n",
    "\\end{equation}\n",
    "where $AM_{1.5}(\\lambda)$ is the AM1.5 solar spectrum and $\\epsilon_{PS}(\\lambda)$ \n",
    "is the absorptivity/emissivity of polystyrene; this term is independant of temperature.\n",
    "The $\\sigma_{emit}$ term will be defined as\n",
    "\\begin{equation}\n",
    "\\sigma_{emit} = 2\\pi \\int_0^{\\infty} B(\\lambda, T) \\epsilon_{PS}(\\lambda) d\\lambda,\n",
    "\\end{equation}\n",
    "where this emission takes on temperature dependence through Planck's blackbody law,\n",
    "\\begin{equation}\n",
    "B(\\lambda, T) = \\frac{2hc^2}{\\lambda^5} \\frac{1}{{\\rm exp}(\\frac{hc}{\\lambda k_B T}) - 1}.\n",
    "\\end{equation}\n",
    "Note that the form of $\\sigma_{emit}$ assumes the emissivity is independent of angle, leading to factor of $2\\pi$ that accounts for the thermal radiation into the two hermispherical halfspaces that include the sky and the active layer, respectively.\n",
    "\n",
    "With the steady state temperature of the polystyrene slab determined, we can compute the \n",
    "photon flux in the range 3.0 - 3.5 $\\mu m$ and compare it to the solar flux."
   ]
  },
  {
   "cell_type": "code",
   "execution_count": 10,
   "metadata": {},
   "outputs": [
    {
     "name": "stdout",
     "output_type": "stream",
     "text": [
      "  Gradient will be taken with respect to all layers! \n",
      "3.245616583416508e+19  photons / s / m^2 from sun that can split excitons\n",
      "142.3655651428669  Watts per meter squared of sunlight absorbed by polystyrene\n",
      "155\n",
      " Steady state temperature is  444.7236180904523 K or  171.7236180904523  C\n"
     ]
    },
    {
     "data": {
      "image/png": "[encoded data removed]",
      "text/plain": [
       "<Figure size 432x288 with 1 Axes>"
      ]
     },
     "metadata": {
      "needs_background": "light"
     },
     "output_type": "display_data"
    },
    {
     "name": "stdout",
     "output_type": "stream",
     "text": [
      "3.245616583416508e+19  photons / s / m^2 from sun that can split excitons\n",
      "2.8325449034008566e+20  photons / s / m^2 from polystyrene that can split excitons\n",
      "8.727293660852478 fold increase in photon flux using polystyrene\n"
     ]
    }
   ],
   "source": [
    "from wptherml.wpml import multilayer\n",
    "from matplotlib import pyplot as plt\n",
    "from wptherml.datalib import datalib\n",
    "from wptherml.numlib import numlib\n",
    "import numpy as np\n",
    "h = 6.626e-34\n",
    "c = 299792458.\n",
    "### dictionary that stores basic properties \n",
    "### of the multilayer structure you want to simulate\n",
    "structure = {\n",
    "        'Temperature': 300,\n",
    "        'Material_List' : ['Air', 'Si', 'Air'], \n",
    "        'Thickness_List': [0, 1000e-9, 0],\n",
    "        'Lambda_List': [200e-9, 4000e-9, 10000]\n",
    "     \n",
    "}\n",
    "\n",
    "### Just create a multilayer instance so we can have access to some\n",
    "### basic quantities, including an array of wavelengths\n",
    "solar_skin = multilayer(structure)\n",
    "\n",
    "### Get the solar spectrum\n",
    "AM = datalib.AM(solar_skin.lambda_array)\n",
    "\n",
    "### Get the solar flux spectrum (number of photons per second per wavelength per meter squared)\n",
    "AMflux = AM * solar_skin.lambda_array / (h * c)\n",
    "\n",
    "### Integrate the solar flux between 3.2 and 3.5 microns to get the number of photons\n",
    "### in that spectral range\n",
    "AM_IR_tot = numlib.Integrate(AMflux, solar_skin.lambda_array, 3200e-9, 3500e-9)\n",
    "print(AM_IR_tot,\" photons / s / m^2 from sun that can split excitons\")\n",
    "\n",
    "### Get transmission spectrum of thick (~1 mm) polystyrene slab, T\n",
    "poly = datalib.poly_styrene_T(solar_skin.lambda_array)\n",
    "### Get absorbed AM1.5 spectrum into this layer as AM1.5 * (1-T)... this assumes negligible \n",
    "### reflectivity\n",
    "AM_absorb = AM * (1-poly)\n",
    "sigma_sun = numlib.Integrate(AM_absorb, solar_skin.lambda_array, 200e-9, 4000e-9)\n",
    "print(sigma_sun,\" Watts per meter squared of sunlight absorbed by polystyrene\")\n",
    "\n",
    "\n",
    "\n",
    "### Now we need to figure out at what temperature the thermal emission of polystyrene\n",
    "### exactly balances the power absorbed by the sun; this will approximate the \n",
    "### steady-state temperature (neglecting convective & conductive heating/cooling forces)\n",
    "### create an array of temperatures between 250 and 500 K\n",
    "T = np.linspace(250,500,200)\n",
    "### Empty arrays of thermal emitted power and difference between this and absorbed power\n",
    "P_emit = []\n",
    "diff = []\n",
    "for temp in T:\n",
    "    ### Get blackbody spectrum at current temperature\n",
    "    rho = datalib.BB(solar_skin.lambda_array, temp)\n",
    "    ### total thermal radiation from both sides of polystyrene given\n",
    "    ### by integral of BB spectrum * (1-T); factor of 2 pi comes from angular \n",
    "    ### contribution\n",
    "    sigma_emit = 2 * np.pi * numlib.Integrate(rho*(1-poly), solar_skin.lambda_array, 200e-9, 4000e-9)\n",
    "    P_emit.append(sigma_emit)\n",
    "    diff.append(np.abs(sigma_sun - sigma_emit))\n",
    "    \n",
    "\n",
    "### Let's get the location of the smallest element of diff, which should also index \n",
    "### of the steady state temperature from the T array\n",
    "T_idx = np.argmin(diff)\n",
    "print(T_idx)\n",
    "print(\" Steady state temperature is \",T[T_idx],\"K or \",T[T_idx]-273,\" C\")\n",
    "\n",
    "### store steady state T\n",
    "T_ss = T[T_idx]\n",
    "### get polystyrene thermal emission\n",
    "ps_te = datalib.BB(solar_skin.lambda_array, T_ss) * (1 - poly)\n",
    "### plot against absorbed solar spectrum\n",
    "plt.plot(1e9*solar_skin.lambda_array, AM_absorb, 'blue', label='Solar power absorbed')\n",
    "plt.plot(1e9*solar_skin.lambda_array, 2*np.pi*ps_te, 'red', label='Thermal radiation emitted')\n",
    "plt.xlabel(\"Wavelength (nm)\")\n",
    "plt.ylabel(\"W / m^2 / nm\")\n",
    "plt.legend()\n",
    "plt.show()\n",
    "\n",
    "### Now let's compute how many photons between 3.2 and 3.5 microns are \n",
    "### emitted from the polystyrene at T_ss towards the active layer (only into 1 halfspace,\n",
    "### so angular contribution is only a factor of pi, not 2 pi as before!\n",
    "ps_flux = ps_te * np.pi * solar_skin.lambda_array / (h * c)\n",
    "### now get the total number of photons\n",
    "ps_IR_tot = numlib.Integrate(ps_flux, solar_skin.lambda_array, 3200e-9, 3500e-9)\n",
    "print(AM_IR_tot,\" photons / s / m^2 from sun that can split excitons\")\n",
    "print(ps_IR_tot,\" photons / s / m^2 from polystyrene that can split excitons\")\n",
    "print(ps_IR_tot/AM_IR_tot, \"fold increase in photon flux using polystyrene\")\n"
   ]
  },
  {
   "cell_type": "code",
   "execution_count": null,
   "metadata": {},
   "outputs": [],
   "source": []
  }
 ],
 "metadata": {
  "kernelspec": {
   "display_name": "Python 3",
   "language": "python",
   "name": "python3"
  },
  "language_info": {
   "codemirror_mode": {
    "name": "ipython",
    "version": 3
   },
   "file_extension": ".py",
   "mimetype": "text/x-python",
   "name": "python",
   "nbconvert_exporter": "python",
   "pygments_lexer": "ipython3",
   "version": "3.7.3"
  }
 },
 "nbformat": 4,
 "nbformat_minor": 2
}
