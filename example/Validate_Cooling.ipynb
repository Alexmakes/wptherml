{
 "cells": [
  {
   "cell_type": "markdown",
   "metadata": {
    "colab_type": "text",
    "id": "view-in-github"
   },
   "source": [
    "<a href=\"https://colab.research.google.com/github/FoleyLab/wptherml/blob/master/example/Validate_Cooling.ipynb\" target=\"_parent\"><img src=\"https://colab.research.google.com/assets/colab-badge.svg\" alt=\"Open In Colab\"/></a>"
   ]
  },
  {
   "cell_type": "markdown",
   "metadata": {
    "colab_type": "text",
    "id": "-fwN0dA1OsZg"
   },
   "source": [
    "## Validation of Cooling Lib\n",
    "This notebook will build the multi-layer structure described in Raman $et$ $al.$, Nature 515, 540-546 (2014), compute plot its emissivity in the solar region and in the atmospheric transmissivity region of the spectrum (~300-2500 nm for the former, 2500-20000 nm for the latter), and compute the cooling power for several different differences between the temperature of the structure and the ambient temperature.  \n",
    "\n",
    "Two differences between this notebook and the structure described in Raman $et$ $al.$ to note: (1) in this example, we terminate the multilayer at the optically thick Ag layer; the full structure described by Raman $et$ $al.$ involved was grown on a silicon substrate and included a thin (10 nm) titanium adhesion layer. Due to the very small skin depth of silver in the visible and IR, these layers make virtually no contribution to the optical properties of the stack.  To confirm there is negligible transmission through the terminal silver layer, one can plot the transmissivity of the multilayer by uncommenting the indicated lines below to confirm no visible or IR light is transmissited through the stack. (2) The refractive index data for materials described by Raman $et$ $al.$ are determined by ellipsometry on as-fabricated materials, and likely differ from the refractive index data employed by WPTherml.  For more information on the refractive index data employed by WPTherml, see https://github.com/FoleyLab/wptherml/blob/master/wptherml/datalib/REFERENCES.md.\n",
    "\n",
    "\n"
   ]
  },
  {
   "cell_type": "code",
   "execution_count": 2,
   "metadata": {
    "colab": {},
    "colab_type": "code",
    "id": "pUu4pD7JO3b2"
   },
   "outputs": [
    {
     "name": "stdout",
     "output_type": "stream",
     "text": [
      "ERROR:root:code for hash md5 was not found.\n",
      "Traceback (most recent call last):\n",
      "  File \"/usr/local/Cellar/python@2/2.7.15_1/Frameworks/Python.framework/Versions/2.7/lib/python2.7/hashlib.py\", line 147, in <module>\n",
      "    globals()[__func_name] = __get_hash(__func_name)\n",
      "  File \"/usr/local/Cellar/python@2/2.7.15_1/Frameworks/Python.framework/Versions/2.7/lib/python2.7/hashlib.py\", line 97, in __get_builtin_constructor\n",
      "    raise ValueError('unsupported hash type ' + name)\n",
      "ValueError: unsupported hash type md5\n",
      "ERROR:root:code for hash sha1 was not found.\n",
      "Traceback (most recent call last):\n",
      "  File \"/usr/local/Cellar/python@2/2.7.15_1/Frameworks/Python.framework/Versions/2.7/lib/python2.7/hashlib.py\", line 147, in <module>\n",
      "    globals()[__func_name] = __get_hash(__func_name)\n",
      "  File \"/usr/local/Cellar/python@2/2.7.15_1/Frameworks/Python.framework/Versions/2.7/lib/python2.7/hashlib.py\", line 97, in __get_builtin_constructor\n",
      "    raise ValueError('unsupported hash type ' + name)\n",
      "ValueError: unsupported hash type sha1\n",
      "ERROR:root:code for hash sha224 was not found.\n",
      "Traceback (most recent call last):\n",
      "  File \"/usr/local/Cellar/python@2/2.7.15_1/Frameworks/Python.framework/Versions/2.7/lib/python2.7/hashlib.py\", line 147, in <module>\n",
      "    globals()[__func_name] = __get_hash(__func_name)\n",
      "  File \"/usr/local/Cellar/python@2/2.7.15_1/Frameworks/Python.framework/Versions/2.7/lib/python2.7/hashlib.py\", line 97, in __get_builtin_constructor\n",
      "    raise ValueError('unsupported hash type ' + name)\n",
      "ValueError: unsupported hash type sha224\n",
      "ERROR:root:code for hash sha256 was not found.\n",
      "Traceback (most recent call last):\n",
      "  File \"/usr/local/Cellar/python@2/2.7.15_1/Frameworks/Python.framework/Versions/2.7/lib/python2.7/hashlib.py\", line 147, in <module>\n",
      "    globals()[__func_name] = __get_hash(__func_name)\n",
      "  File \"/usr/local/Cellar/python@2/2.7.15_1/Frameworks/Python.framework/Versions/2.7/lib/python2.7/hashlib.py\", line 97, in __get_builtin_constructor\n",
      "    raise ValueError('unsupported hash type ' + name)\n",
      "ValueError: unsupported hash type sha256\n",
      "ERROR:root:code for hash sha384 was not found.\n",
      "Traceback (most recent call last):\n",
      "  File \"/usr/local/Cellar/python@2/2.7.15_1/Frameworks/Python.framework/Versions/2.7/lib/python2.7/hashlib.py\", line 147, in <module>\n",
      "    globals()[__func_name] = __get_hash(__func_name)\n",
      "  File \"/usr/local/Cellar/python@2/2.7.15_1/Frameworks/Python.framework/Versions/2.7/lib/python2.7/hashlib.py\", line 97, in __get_builtin_constructor\n",
      "    raise ValueError('unsupported hash type ' + name)\n",
      "ValueError: unsupported hash type sha384\n",
      "ERROR:root:code for hash sha512 was not found.\n",
      "Traceback (most recent call last):\n",
      "  File \"/usr/local/Cellar/python@2/2.7.15_1/Frameworks/Python.framework/Versions/2.7/lib/python2.7/hashlib.py\", line 147, in <module>\n",
      "    globals()[__func_name] = __get_hash(__func_name)\n",
      "  File \"/usr/local/Cellar/python@2/2.7.15_1/Frameworks/Python.framework/Versions/2.7/lib/python2.7/hashlib.py\", line 97, in __get_builtin_constructor\n",
      "    raise ValueError('unsupported hash type ' + name)\n",
      "ValueError: unsupported hash type sha512\n",
      "Traceback (most recent call last):\n",
      "  File \"/usr/local/bin/pip\", line 11, in <module>\n",
      "    load_entry_point('pip==18.0', 'console_scripts', 'pip')()\n",
      "  File \"/usr/local/lib/python2.7/site-packages/pkg_resources/__init__.py\", line 484, in load_entry_point\n",
      "    return get_distribution(dist).load_entry_point(group, name)\n",
      "  File \"/usr/local/lib/python2.7/site-packages/pkg_resources/__init__.py\", line 2714, in load_entry_point\n",
      "    return ep.load()\n",
      "  File \"/usr/local/lib/python2.7/site-packages/pkg_resources/__init__.py\", line 2332, in load\n",
      "    return self.resolve()\n",
      "  File \"/usr/local/lib/python2.7/site-packages/pkg_resources/__init__.py\", line 2338, in resolve\n",
      "    module = __import__(self.module_name, fromlist=['__name__'], level=0)\n",
      "  File \"/usr/local/lib/python2.7/site-packages/pip/_internal/__init__.py\", line 20, in <module>\n",
      "    from pip._vendor.urllib3.exceptions import DependencyWarning\n",
      "  File \"/usr/local/lib/python2.7/site-packages/pip/_vendor/urllib3/__init__.py\", line 8, in <module>\n",
      "    from .connectionpool import (\n",
      "  File \"/usr/local/lib/python2.7/site-packages/pip/_vendor/urllib3/connectionpool.py\", line 29, in <module>\n",
      "    from .connection import (\n",
      "  File \"/usr/local/lib/python2.7/site-packages/pip/_vendor/urllib3/connection.py\", line 39, in <module>\n",
      "    from .util.ssl_ import (\n",
      "  File \"/usr/local/lib/python2.7/site-packages/pip/_vendor/urllib3/util/__init__.py\", line 6, in <module>\n",
      "    from .ssl_ import (\n",
      "  File \"/usr/local/lib/python2.7/site-packages/pip/_vendor/urllib3/util/ssl_.py\", line 8, in <module>\n",
      "    from hashlib import md5, sha1, sha256\n",
      "ImportError: cannot import name md5\n"
     ]
    }
   ],
   "source": [
    "!pip install wptherml"
   ]
  },
  {
   "cell_type": "code",
   "execution_count": 1,
   "metadata": {
    "colab": {},
    "colab_type": "code",
    "id": "wa7gCZPSOsZi"
   },
   "outputs": [
    {
     "ename": "ModuleNotFoundError",
     "evalue": "No module named 'wptherml'",
     "output_type": "error",
     "traceback": [
      "\u001b[0;31m---------------------------------------------------------------------------\u001b[0m",
      "\u001b[0;31mModuleNotFoundError\u001b[0m                       Traceback (most recent call last)",
      "\u001b[0;32m<ipython-input-1-4d0bbf0262d4>\u001b[0m in \u001b[0;36m<module>\u001b[0;34m\u001b[0m\n\u001b[1;32m      1\u001b[0m \u001b[0;31m### Import WPTHERML class!\u001b[0m\u001b[0;34m\u001b[0m\u001b[0;34m\u001b[0m\u001b[0;34m\u001b[0m\u001b[0m\n\u001b[0;32m----> 2\u001b[0;31m \u001b[0;32mfrom\u001b[0m \u001b[0mwptherml\u001b[0m\u001b[0;34m.\u001b[0m\u001b[0mwpml\u001b[0m \u001b[0;32mimport\u001b[0m \u001b[0mmultilayer\u001b[0m\u001b[0;34m\u001b[0m\u001b[0;34m\u001b[0m\u001b[0m\n\u001b[0m\u001b[1;32m      3\u001b[0m \u001b[0;32mfrom\u001b[0m \u001b[0mmatplotlib\u001b[0m \u001b[0;32mimport\u001b[0m \u001b[0mpyplot\u001b[0m \u001b[0;32mas\u001b[0m \u001b[0mplt\u001b[0m\u001b[0;34m\u001b[0m\u001b[0;34m\u001b[0m\u001b[0m\n\u001b[1;32m      4\u001b[0m \u001b[0;32mfrom\u001b[0m \u001b[0mwptherml\u001b[0m\u001b[0;34m.\u001b[0m\u001b[0mdatalib\u001b[0m \u001b[0;32mimport\u001b[0m \u001b[0mdatalib\u001b[0m\u001b[0;34m\u001b[0m\u001b[0;34m\u001b[0m\u001b[0m\n\u001b[1;32m      5\u001b[0m \u001b[0;34m\u001b[0m\u001b[0m\n",
      "\u001b[0;31mModuleNotFoundError\u001b[0m: No module named 'wptherml'"
     ]
    }
   ],
   "source": [
    "### Import WPTHERML class!\n",
    "from wptherml.wpml import multilayer\n",
    "from matplotlib import pyplot as plt\n",
    "from wptherml.datalib import datalib\n",
    "\n",
    "### Define structure!\n",
    "structure = {\n",
    "\n",
    "        'Material_List': ['Air', 'SiO2', 'HfO2', 'SiO2', 'HfO2', 'SiO2', 'HfO2', 'SiO2', 'Ag', 'Air'],\n",
    "        'Thickness_List': [0, 230e-9, 485e-9, 688e-9, 13e-9, 73e-9, 34e-9, 54e-9, 200e-9, 0],\n",
    "        'Lambda_List': [300e-9, 60000e-9, 5000],\n",
    "        'EXPLICIT_ANGLE': 1,\n",
    "        'COOLING': 1\n",
    "     \n",
    "        }\n",
    "\n",
    "### create instance of multilayer class called cool_ml\n",
    "cool_ml = multilayer(structure)\n",
    "\n",
    "### get AM1.5 spectra and atmospheric transmissivity data from datalib\n",
    "AM = datalib.AM(cool_ml.lambda_array)\n",
    "T_atm = datalib.ATData(cool_ml.lambda_array)\n",
    "\n",
    "### plot emissivity of cool_ml against AM1.5 spectrum in the visible range\n",
    "### to demonstrate the high solar reflectivity of cool_ml\n",
    "plt.plot(cool_ml.lambda_array*1e9, cool_ml.emissivity_array, 'blue', label='Emissivity')\n",
    "plt.plot(cool_ml.lambda_array*1e9, AM/(1.4*1e9), 'red', label='AM1.5 Spectral Irradiance')\n",
    "### Uncomment the next line if you want to plot the transmissivity of the multilayer in the visible\n",
    "#plt.plot(cool_ml.lambda_array*1e9, cool_ml.transmissivity_array, 'green', label='Transmissivity')\n",
    "plt.xlabel(\"Wavelength (nm)\")\n",
    "plt.ylabel(\"Arb. units\")\n",
    "plt.legend(loc = 'best')\n",
    "plt.xlim(300,2500)\n",
    "plt.show()\n",
    "\n",
    "### plot the emissivity of cool_ml against the atmospheric transmissivity in the IR\n",
    "### to demonstrate the selective thermal emissivity of cool_ml\n",
    "plt.plot(cool_ml.lambda_array*1e9, T_atm, 'cyan', label='Atmospheric Transparency')\n",
    "plt.plot(cool_ml.lambda_array*1e9, cool_ml.emissivity_array, 'red', label='Emissivity')\n",
    "### Uncomment the next line if you want to plot the transmissivity of\n",
    "### the multilayer in the IR\n",
    "#plt.plot(cool_ml.lambda_array*1e9, cool_ml.transmissivity_array, 'green', label='Transmissivity')\n",
    "plt.xlabel(\"Wavelength (nm)\")\n",
    "plt.ylabel(\"Arb. units\")\n",
    "plt.legend(loc = 'best')\n",
    "plt.xlim(2500,20000)\n",
    "plt.ylim(0,1.25)\n",
    "plt.show()\n"
   ]
  },
  {
   "cell_type": "markdown",
   "metadata": {
    "colab_type": "text",
    "id": "8WahRC1rOsZn"
   },
   "source": [
    "### Validate Power Radiated Against Stefan-Boltzmann law\n",
    "Here we will force the cool_ml structure to be a perfect absorber/emitter across the visible and IR using the method *step_emissivity_ea(central_lambda, delta_lambda)* and then re-calling\n",
    "the *cooling_power()* method, which will numerically integrate the thermal emission of cool_ml  over wavelength and angle at 300 K.  This shoudl in principle be the same as integrating a blackbody at 300 K, so should agree with the Stefan-Boltzmann law.  In practice, there will be numerical error from truncation of the wavelength range of cool_ml, and of finite sampling of angles of emission."
   ]
  },
  {
   "cell_type": "code",
   "execution_count": 0,
   "metadata": {
    "colab": {},
    "colab_type": "code",
    "id": "OBIE6kPDOsZo"
   },
   "outputs": [],
   "source": [
    "\n",
    "### now make structure a blackbody emitter at all angles\n",
    "cool_ml.step_emissivity_ea(20000e-9,80000e-9)\n",
    "### This is only normal emissivity in case you want to plot it!\n",
    "cool_ml.step_emissivity(20000e-9,80000e-9)\n",
    "### re-compute thermal emission spectra at each angle\n",
    "cool_ml.thermal_emission_ea()\n",
    "### re-compute cooling power\n",
    "cool_ml.cooling_power()\n",
    "\n",
    "\n",
    "\n",
    "\n",
    "sig = 5.670367e-8\n",
    "### plot results assuming blackbody emissivity\n",
    "print(\"Radiative Power (cooling) is \",cool_ml.radiative_power_val, \"W/m^2\")\n",
    "print(\"Stefan-Boltzmann Law is \",cool_ml.T_ml**4*sig, \"W/m^2\")"
   ]
  },
  {
   "cell_type": "markdown",
   "metadata": {
    "colab_type": "text",
    "id": "3Lb-86_HOsZs"
   },
   "source": [
    "The two results agree to 2 significant figures, which is reasonable considering the errors mentioned above, is reasonable to validate that our angular and wavelength integration performed within the cooling_power() method is functioning.  The accuracy could be systematically improved by (1) increasing the wavelength range of integration by decreasing (increasing) the minimum (maximum) wavelengths in Lambda_List, (2) increasing the wavelength resolution by increasing the number of wavelengths in Lambda_List, and (3) increasing the angular resolution by increasing the number of angles in the angular integrals using 'DEG' keyword in the structure dictionary.  For example, the entry \n",
    "'DEG': 10 would perform the angular integrals over 10 different angles rather than the default 7.  Increasing the wavelength and angular resolution will increase the computation time.\n",
    "\n",
    "We can also re-plot the quantities as before to visualize how the step_emissivity() method modifies the emissivity of cool_ml."
   ]
  },
  {
   "cell_type": "code",
   "execution_count": 0,
   "metadata": {
    "colab": {},
    "colab_type": "code",
    "id": "lsUm55bTOsZv"
   },
   "outputs": [],
   "source": [
    "### get AM1.5 spectra and transmissivity data\n",
    "AM = datalib.AM(cool_ml.lambda_array)\n",
    "T_atm = datalib.ATData(cool_ml.lambda_array)\n",
    "### plot results of perfect emissivity!\n",
    "plt.plot(cool_ml.lambda_array*1e6, cool_ml.emissivity_array, 'blue', label='Emissivity')\n",
    "plt.plot(cool_ml.lambda_array*1e6, AM/(1.4*1e9), 'red', label='AM1.5 Spectral Irradiance')\n",
    "plt.xlabel(\"Wavelength (\\u03BCm)\")\n",
    "plt.ylabel(\"(arb. units)\")\n",
    "plt.xlim(0.3,2.5)\n",
    "plt.legend()\n",
    "plt.show()\n",
    "\n",
    "\n",
    "plt.plot(cool_ml.lambda_array*1e6, T_atm, 'cyan', label='Atmospheric Transparency')\n",
    "plt.plot(cool_ml.lambda_array*1e6, cool_ml.emissivity_array, 'red', label='Emissivity')\n",
    "#plt.plot(w_slab.lambda_array*1e6, BB, 'black')\n",
    "plt.xlabel(\"Wavelength (\\u03BCm)\")\n",
    "plt.ylabel(\"(arb. units)\")\n",
    "plt.xlim(2.5,60)\n",
    "plt.legend()\n",
    "plt.show()"
   ]
  },
  {
   "cell_type": "code",
   "execution_count": 0,
   "metadata": {
    "colab": {},
    "colab_type": "code",
    "id": "J8qe4DlOOsZ0"
   },
   "outputs": [],
   "source": []
  }
 ],
 "metadata": {
  "colab": {
   "include_colab_link": true,
   "name": "Validate_Cooling.ipynb",
   "provenance": []
  },
  "kernelspec": {
   "display_name": "Python 3",
   "language": "python",
   "name": "python3"
  },
  "language_info": {
   "codemirror_mode": {
    "name": "ipython",
    "version": 3
   },
   "file_extension": ".py",
   "mimetype": "text/x-python",
   "name": "python",
   "nbconvert_exporter": "python",
   "pygments_lexer": "ipython3",
   "version": "3.7.4"
  }
 },
 "nbformat": 4,
 "nbformat_minor": 1
}
