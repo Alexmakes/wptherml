{
 "cells": [
  {
   "cell_type": "markdown",
   "metadata": {
    "slideshow": {
     "slide_type": "slide"
    }
   },
   "source": [
    "## Validation of Cooling Lib\n",
    "This notebook will build the multi-layer structure described in Raman $et$ $al.$, Nature 515, 540-546 (2014), compute plot its emissivity in the solar region and in the atmospheric transmissivity region of the spectrum (~300-2500 nm for the former, 2500-20000 nm for the latter), and compute the cooling power for several different differences between the temperature of the structure and the ambient temperature.  \n"
   ]
  },
  {
   "cell_type": "code",
   "execution_count": null,
   "metadata": {
    "slideshow": {
     "slide_type": "slide"
    }
   },
   "outputs": [],
   "source": [
    "### Import WPTHERML class!\n",
    "from wptherml.wpml import multilayer\n",
    "from matplotlib import pyplot as plt\n",
    "from wptherml.datalib import datalib\n",
    "\n",
    "### Define structure!\n",
    "\n",
    "structure = {\n",
    "\n",
    "        'Material_List': ['Air', 'SiO2', 'HfO2', 'SiO2', 'HfO2', 'SiO2', 'HfO2', 'SiO2', 'Ag', 'Air'],\n",
    "        'Thickness_List': [0, 230e-9, 485e-9, 688e-9, 13e-9, 73e-9, 34e-9, 54e-9, 200e-9, 0],\n",
    "        'Lambda_List': [300e-9, 60000e-9, 5000],\n",
    "        'EXPLICIT_ANGLE': 1,\n",
    "        'COOLING': 1\n",
    "     \n",
    "        }\n",
    "\n",
    "### create instance of multilayer class - results will be computed and printed automiatically\n",
    "w_slab = multilayer(structure)"
   ]
  },
  {
   "cell_type": "markdown",
   "metadata": {},
   "source": [
    "### Validate Power Radiated Against Stefan-Boltzmann law"
   ]
  },
  {
   "cell_type": "code",
   "execution_count": null,
   "metadata": {
    "slideshow": {
     "slide_type": "slide"
    }
   },
   "outputs": [],
   "source": [
    "\n",
    "### now make structure a blackbody emitter at all angles\n",
    "w_slab.step_emissivity_ea(20000e-9,80000e-9)\n",
    "### This is only normal emissivity in case you want to plot it!\n",
    "w_slab.step_emissivity(20000e-9,80000e-9)\n",
    "### re-compute thermal emission spectra at each angle\n",
    "w_slab.thermal_emission_ea()\n",
    "### re-compute cooling power\n",
    "w_slab.cooling_power()\n",
    "\n",
    "\n",
    "\n",
    "\n",
    "sig = 5.670367e-8\n",
    "### plot results assuming blackbody emissivity\n",
    "print(\"Radiative Power (cooling) is \",w_slab.radiative_power_val, \"W/m^2\")\n",
    "print(\"Stefan-Boltzmann Law is \",w_slab.T_ml**4*sig, \"W/m^2\")"
   ]
  },
  {
   "cell_type": "code",
   "execution_count": null,
   "metadata": {},
   "outputs": [],
   "source": [
    "### get AM1.5 spectra and transmissivity data\n",
    "AM = datalib.AM(w_slab.lambda_array)\n",
    "T_atm = datalib.ATData(w_slab.lambda_array)\n",
    "### plot results of perfect emissivity!\n",
    "plt.plot(w_slab.lambda_array*1e6, w_slab.emissivity_array, 'blue', label='Emissivity')\n",
    "plt.plot(w_slab.lambda_array*1e6, AM/(1.4*1e9), 'red', label='AM1.5 Spectral Irradiance')\n",
    "plt.xlabel(\"Wavelength (nm)\")\n",
    "plt.ylabel(\"(arb. units)\")\n",
    "plt.xlim(0.3,2.5)\n",
    "plt.legend()\n",
    "plt.show()\n",
    "\n",
    "\n",
    "plt.plot(w_slab.lambda_array*1e6, T_atm, 'cyan', label='Atmospheric Transparency')\n",
    "plt.plot(w_slab.lambda_array*1e6, w_slab.emissivity_array, 'red', label='Emissivity')\n",
    "#plt.plot(w_slab.lambda_array*1e6, BB, 'black')\n",
    "plt.xlabel(\"Wavelength (nm)\")\n",
    "plt.ylabel(\"(arb. units)\")\n",
    "plt.xlim(2.5,60)\n",
    "plt.legend()\n",
    "plt.show()"
   ]
  },
  {
   "cell_type": "code",
   "execution_count": null,
   "metadata": {},
   "outputs": [],
   "source": []
  },
  {
   "cell_type": "code",
   "execution_count": null,
   "metadata": {},
   "outputs": [],
   "source": []
  }
 ],
 "metadata": {
  "kernelspec": {
   "display_name": "Python 3",
   "language": "python",
   "name": "python3"
  },
  "language_info": {
   "codemirror_mode": {
    "name": "ipython",
    "version": 3
   },
   "file_extension": ".py",
   "mimetype": "text/x-python",
   "name": "python",
   "nbconvert_exporter": "python",
   "pygments_lexer": "ipython3",
   "version": "3.7.1"
  }
 },
 "nbformat": 4,
 "nbformat_minor": 2
}
