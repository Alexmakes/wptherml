{
  "nbformat": 4,
  "nbformat_minor": 0,
  "metadata": {
    "kernelspec": {
      "display_name": "Python 3",
      "language": "python",
      "name": "python3"
    },
    "language_info": {
      "codemirror_mode": {
        "name": "ipython",
        "version": 3
      },
      "file_extension": ".py",
      "mimetype": "text/x-python",
      "name": "python",
      "nbconvert_exporter": "python",
      "pygments_lexer": "ipython3",
      "version": "3.6.8"
    },
    "colab": {
      "name": "Validate_Cooling.ipynb",
      "provenance": [],
      "include_colab_link": true
    }
  },
  "cells": [
    {
      "cell_type": "markdown",
      "metadata": {
        "id": "view-in-github",
        "colab_type": "text"
      },
      "source": [
        "<a href=\"https://colab.research.google.com/github/FoleyLab/wptherml/blob/master/example/Validate_Cooling.ipynb\" target=\"_parent\"><img src=\"https://colab.research.google.com/assets/colab-badge.svg\" alt=\"Open In Colab\"/></a>"
      ]
    },
    {
      "cell_type": "markdown",
      "metadata": {
        "id": "-fwN0dA1OsZg",
        "colab_type": "text"
      },
      "source": [
        "## Validation of Cooling Lib\n",
        "This notebook will build the multi-layer structure described in Raman $et$ $al.$, Nature 515, 540-546 (2014), compute plot its emissivity in the solar region and in the atmospheric transmissivity region of the spectrum (~300-2500 nm for the former, 2500-20000 nm for the latter), and compute the cooling power for several different differences between the temperature of the structure and the ambient temperature.  \n",
        "\n",
        "Two differences between this notebook and the structure described in Raman $et$ $al.$ to note: (1) in this example, we terminate the multilayer at the optically thick Ag layer; the full structure described by Raman $et$ $al.$ involved was grown on a silicon substrate and included a thin (10 nm) titanium adhesion layer. Due to the very small skin depth of silver in the visible and IR, these layers make virtually no contribution to the optical properties of the stack.  To confirm there is negligible transmission through the terminal silver layer, one can plot the transmissivity of the multilayer by uncommenting the indicated lines below to confirm no visible or IR light is transmissited through the stack. (2) The refractive index data for materials described by Raman $et$ $al.$ are determined by ellipsometry on as-fabricated materials, and likely differ from the refractive index data employed by WPTherml.  For more information on the refractive index data employed by WPTherml, see https://github.com/FoleyLab/wptherml/blob/master/wptherml/datalib/REFERENCES.md.\n",
        "\n",
        "\n"
      ]
    },
    {
      "cell_type": "code",
      "metadata": {
        "id": "pUu4pD7JO3b2",
        "colab_type": "code",
        "colab": {}
      },
      "source": [
        "!pip install wptherml"
      ],
      "execution_count": 0,
      "outputs": []
    },
    {
      "cell_type": "code",
      "metadata": {
        "id": "wa7gCZPSOsZi",
        "colab_type": "code",
        "colab": {}
      },
      "source": [
        "### Import WPTHERML class!\n",
        "from wptherml.wpml import multilayer\n",
        "from matplotlib import pyplot as plt\n",
        "from wptherml.datalib import datalib\n",
        "\n",
        "### Define structure!\n",
        "structure = {\n",
        "\n",
        "        'Material_List': ['Air', 'SiO2', 'HfO2', 'SiO2', 'HfO2', 'SiO2', 'HfO2', 'SiO2', 'Ag', 'Air'],\n",
        "        'Thickness_List': [0, 230e-9, 485e-9, 688e-9, 13e-9, 73e-9, 34e-9, 54e-9, 200e-9, 0],\n",
        "        'Lambda_List': [300e-9, 60000e-9, 5000],\n",
        "        'EXPLICIT_ANGLE': 1,\n",
        "        'COOLING': 1\n",
        "     \n",
        "        }\n",
        "\n",
        "### create instance of multilayer class called cool_ml\n",
        "cool_ml = multilayer(structure)\n",
        "\n",
        "### get AM1.5 spectra and atmospheric transmissivity data from datalib\n",
        "AM = datalib.AM(cool_ml.lambda_array)\n",
        "T_atm = datalib.ATData(cool_ml.lambda_array)\n",
        "\n",
        "### plot emissivity of cool_ml against AM1.5 spectrum in the visible range\n",
        "### to demonstrate the high solar reflectivity of cool_ml\n",
        "plt.plot(cool_ml.lambda_array*1e9, cool_ml.emissivity_array, 'blue', label='Emissivity')\n",
        "plt.plot(cool_ml.lambda_array*1e9, AM/(1.4*1e9), 'red', label='AM1.5 Spectral Irradiance')\n",
        "### Uncomment the next line if you want to plot the transmissivity of the multilayer in the visible\n",
        "#plt.plot(cool_ml.lambda_array*1e9, cool_ml.transmissivity_array, 'green', label='Transmissivity')\n",
        "plt.xlabel(\"Wavelength (nm)\")\n",
        "plt.ylabel(\"Arb. units\")\n",
        "plt.legend(loc = 'best')\n",
        "plt.xlim(300,2500)\n",
        "plt.show()\n",
        "\n",
        "### plot the emissivity of cool_ml against the atmospheric transmissivity in the IR\n",
        "### to demonstrate the selective thermal emissivity of cool_ml\n",
        "plt.plot(cool_ml.lambda_array*1e9, T_atm, 'cyan', label='Atmospheric Transparency')\n",
        "plt.plot(cool_ml.lambda_array*1e9, cool_ml.emissivity_array, 'red', label='Emissivity')\n",
        "### Uncomment the next line if you want to plot the transmissivity of\n",
        "### the multilayer in the IR\n",
        "#plt.plot(cool_ml.lambda_array*1e9, cool_ml.transmissivity_array, 'green', label='Transmissivity')\n",
        "plt.xlabel(\"Wavelength (nm)\")\n",
        "plt.ylabel(\"Arb. units\")\n",
        "plt.legend(loc = 'best')\n",
        "plt.xlim(2500,20000)\n",
        "plt.ylim(0,1.25)\n",
        "plt.show()\n"
      ],
      "execution_count": 0,
      "outputs": []
    },
    {
      "cell_type": "markdown",
      "metadata": {
        "id": "8WahRC1rOsZn",
        "colab_type": "text"
      },
      "source": [
        "### Validate Power Radiated Against Stefan-Boltzmann law\n",
        "Here we will force the cool_ml structure to be a perfect absorber/emitter across the visible and IR using the method *step_emissivity_ea(central_lambda, delta_lambda)* and then re-calling\n",
        "the *cooling_power()* method, which will numerically integrate the thermal emission of cool_ml  over wavelength and angle at 300 K.  This shoudl in principle be the same as integrating a blackbody at 300 K, so should agree with the Stefan-Boltzmann law.  In practice, there will be numerical error from truncation of the wavelength range of cool_ml, and of finite sampling of angles of emission."
      ]
    },
    {
      "cell_type": "code",
      "metadata": {
        "id": "OBIE6kPDOsZo",
        "colab_type": "code",
        "colab": {}
      },
      "source": [
        "\n",
        "### now make structure a blackbody emitter at all angles\n",
        "cool_ml.step_emissivity_ea(20000e-9,80000e-9)\n",
        "### This is only normal emissivity in case you want to plot it!\n",
        "cool_ml.step_emissivity(20000e-9,80000e-9)\n",
        "### re-compute thermal emission spectra at each angle\n",
        "cool_ml.thermal_emission_ea()\n",
        "### re-compute cooling power\n",
        "cool_ml.cooling_power()\n",
        "\n",
        "\n",
        "\n",
        "\n",
        "sig = 5.670367e-8\n",
        "### plot results assuming blackbody emissivity\n",
        "print(\"Radiative Power (cooling) is \",cool_ml.radiative_power_val, \"W/m^2\")\n",
        "print(\"Stefan-Boltzmann Law is \",cool_ml.T_ml**4*sig, \"W/m^2\")"
      ],
      "execution_count": 0,
      "outputs": []
    },
    {
      "cell_type": "markdown",
      "metadata": {
        "id": "3Lb-86_HOsZs",
        "colab_type": "text"
      },
      "source": [
        "The two results agree to 2 significant figures, which is reasonable considering the errors mentioned above, is reasonable to validate that our angular and wavelength integration performed within the cooling_power() method is functioning.  The accuracy could be systematically improved by (1) increasing the wavelength range of integration by decreasing (increasing) the minimum (maximum) wavelengths in Lambda_List, (2) increasing the wavelength resolution by increasing the number of wavelengths in Lambda_List, and (3) increasing the angular resolution by increasing the number of angles in the angular integrals using 'DEG' keyword in the structure dictionary.  For example, the entry \n",
        "'DEG': 10 would perform the angular integrals over 10 different angles rather than the default 7.  Increasing the wavelength and angular resolution will increase the computation time.\n",
        "\n",
        "We can also re-plot the quantities as before to visualize how the step_emissivity() method modifies the emissivity of cool_ml."
      ]
    },
    {
      "cell_type": "code",
      "metadata": {
        "id": "lsUm55bTOsZv",
        "colab_type": "code",
        "colab": {}
      },
      "source": [
        "### get AM1.5 spectra and transmissivity data\n",
        "AM = datalib.AM(cool_ml.lambda_array)\n",
        "T_atm = datalib.ATData(cool_ml.lambda_array)\n",
        "### plot results of perfect emissivity!\n",
        "plt.plot(cool_ml.lambda_array*1e6, cool_ml.emissivity_array, 'blue', label='Emissivity')\n",
        "plt.plot(cool_ml.lambda_array*1e6, AM/(1.4*1e9), 'red', label='AM1.5 Spectral Irradiance')\n",
        "plt.xlabel(\"Wavelength (\\u03BCm)\")\n",
        "plt.ylabel(\"(arb. units)\")\n",
        "plt.xlim(0.3,2.5)\n",
        "plt.legend()\n",
        "plt.show()\n",
        "\n",
        "\n",
        "plt.plot(cool_ml.lambda_array*1e6, T_atm, 'cyan', label='Atmospheric Transparency')\n",
        "plt.plot(cool_ml.lambda_array*1e6, cool_ml.emissivity_array, 'red', label='Emissivity')\n",
        "#plt.plot(w_slab.lambda_array*1e6, BB, 'black')\n",
        "plt.xlabel(\"Wavelength (\\u03BCm)\")\n",
        "plt.ylabel(\"(arb. units)\")\n",
        "plt.xlim(2.5,60)\n",
        "plt.legend()\n",
        "plt.show()"
      ],
      "execution_count": 0,
      "outputs": []
    },
    {
      "cell_type": "code",
      "metadata": {
        "id": "J8qe4DlOOsZ0",
        "colab_type": "code",
        "colab": {}
      },
      "source": [
        ""
      ],
      "execution_count": 0,
      "outputs": []
    }
  ]
}