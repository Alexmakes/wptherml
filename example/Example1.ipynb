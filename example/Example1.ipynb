{
 "cells": [
  {
   "cell_type": "markdown",
   "metadata": {},
   "source": [
    "## Example 1: Basic Optical Properties\n",
    "This notebook will take you through basic usage of the wptherml package to compute optical properties of multi-layer stacks.\n",
    "\n",
    "### Optical properties of 200 nm glass in air\n",
    "The following lines will import the multilayer class and create an instance of the multilayer class called $glass$_$slab$,\n",
    "which \n",
    "Several basic properties of $glass$_$slab$ will be defined by a dictionary called $structure$; additional keywords are defined in this dictionary, and are explained in comments.  To begin with, we will define a structure that consistes of a 200 nm thick piece of glass with air above and below."
   ]
  },
  {
   "cell_type": "code",
   "execution_count": null,
   "metadata": {},
   "outputs": [],
   "source": [
    "from wptherml.wpml import multilayer\n",
    "from matplotlib import pyplot as plt\n",
    "import numpy as np\n",
    "\n",
    "\n",
    "structure = {\n",
    "        'Temperature': 300,\n",
    "        ### actual materials the structure is made from\n",
    "        ### values are stored in the attribute self.n\n",
    "        'Material_List': ['Air', 'SiO2', 'Air'],\n",
    "        ### thickness of each layer... terminal layers must be set to zero\n",
    "        ### values are stored in attribute self.d\n",
    "        'Thickness_List': [0, 200e-9, 0],\n",
    "         ### range of wavelengths optical properties will be calculated for\n",
    "         ### values are stored in the array self.lam\n",
    "        'Lambda_List': [400e-9, 800e-9, 1000]\n",
    "        }\n",
    "\n",
    "### create the instance called glass_slab\n",
    "glass_slab = multilayer(structure)\n",
    "\n",
    "\n"
   ]
  },
  {
   "cell_type": "markdown",
   "metadata": {},
   "source": [
    "Upon instantiation, the basic optical properties (reflectivity, transmissivity, absorptivity/emissivity) are computed using the method $self.Fresnel()$ and stored as attributes $self.Reflectivity$, $self.Transmissivity$, $self.Emissivity$.  We will plot them as a function \n",
    "of wavelength in nanometers using pyplot in the following lines.  Note that we store all quantities in SI units, so we will multiply all values of $self.lam$ by $10^9 nm/m$ to convert the wavelengths to nanometers."
   ]
  },
  {
   "cell_type": "code",
   "execution_count": null,
   "metadata": {},
   "outputs": [],
   "source": [
    "### Plot reflectivity with a red line\n",
    "plt.plot(glass_slab.lambda_array*1e9, glass_slab.reflectivity_array, 'red', label='Reflectivity')\n",
    "### Plot transmissivity with a blue line\n",
    "plt.plot(glass_slab.lambda_array*1e9, glass_slab.transmissivity_array, 'blue', label='Transmissivity')\n",
    "### Plot absorptivity/emissivity with a black line\n",
    "plt.plot(glass_slab.lambda_array*1e9, glass_slab.emissivity_array, 'black', label='Emissivity')\n",
    "plt.xlabel(\"Wavelength (nm)\")\n",
    "plt.ylabel(\"Fresnel Quantities (arb. units)\")\n",
    "plt.legend()\n",
    "plt.show()"
   ]
  },
  {
   "cell_type": "markdown",
   "metadata": {},
   "source": [
    "We can also call a method called $AmbientColor$ to render the color of this structure."
   ]
  },
  {
   "cell_type": "code",
   "execution_count": null,
   "metadata": {},
   "outputs": [],
   "source": [
    "glass_slab.ambient_color()"
   ]
  },
  {
   "cell_type": "markdown",
   "metadata": {},
   "source": [
    "### Optical properties of 50 nm glass in air\n",
    "We can change the thickness of the glass slab by re-assigning the corresponding value of the $self.d$ attribute"
   ]
  },
  {
   "cell_type": "code",
   "execution_count": null,
   "metadata": {},
   "outputs": [],
   "source": [
    "glass_slab.d[1] = 50e-9"
   ]
  },
  {
   "cell_type": "markdown",
   "metadata": {},
   "source": [
    "To update the reflectivity, transmissivity, and emissivity, we need to call the $self.Fresnel()$ method."
   ]
  },
  {
   "cell_type": "code",
   "execution_count": null,
   "metadata": {},
   "outputs": [],
   "source": [
    "glass_slab.fresnel()\n",
    "\n",
    "### Plot reflectivity with a red line\n",
    "plt.plot(glass_slab.lambda_array*1e9, glass_slab.reflectivity_array, 'red', label = 'Reflectivity')\n",
    "### Plot transmissivity with a blue line\n",
    "plt.plot(glass_slab.lambda_array*1e9, glass_slab.transmissivity_array, 'blue', label = 'Transmissivity')\n",
    "### Plot absorptivity/emissivity with a black line\n",
    "plt.plot(glass_slab.lambda_array*1e9, glass_slab.emissivity_array, 'black', label = 'Emissivity')\n",
    "plt.xlabel('Wavelength (nm)')\n",
    "plt.ylabel(\"Fresnel Quantities (arb. units)\")\n",
    "plt.legend()\n",
    "plt.show()\n"
   ]
  },
  {
   "cell_type": "markdown",
   "metadata": {},
   "source": [
    "The color of the 50 nm glass slab can be re-computed and plotted as well:"
   ]
  },
  {
   "cell_type": "code",
   "execution_count": null,
   "metadata": {},
   "outputs": [],
   "source": [
    "glass_slab.ambient_color()"
   ]
  },
  {
   "cell_type": "markdown",
   "metadata": {},
   "source": [
    "We can also look at the optical properties as a function of angle at a fixed wavelength using the method $self.angular_fresnel(lambda0)$, where $lambda0$ is the wavelength of interest in meters.  "
   ]
  },
  {
   "cell_type": "code",
   "execution_count": null,
   "metadata": {},
   "outputs": [],
   "source": [
    "### method to compute reflectivity, transmissivity, and absorptivity vs angle at a specified\n",
    "### wavelength... results are stored in the attributes\n",
    "### self.r_vs_theta, self.t_vs_theta, and self.eps_vs_theta... array of angles is self.theta_array\n",
    "###import numpy as np\n",
    "glass_slab.angular_fresnel(500e-9)\n",
    "plt.plot(180/np.pi*glass_slab.theta_array, glass_slab.r_vs_theta, 'red')\n",
    "plt.xlabel(\"Angle (degrees)\")\n",
    "plt.ylabel(\"Reflectivity (arb. units)\")\n",
    "plt.show()"
   ]
  },
  {
   "cell_type": "markdown",
   "metadata": {},
   "source": [
    "### Optical properties of a gold film on a glass substrate\n",
    "Let's create a new instance of the  50 nm layer of gold deposite on glass with air above.\n",
    "Unlike the glass film, this structure will exhibit absorption.\n"
   ]
  },
  {
   "cell_type": "code",
   "execution_count": null,
   "metadata": {},
   "outputs": [],
   "source": [
    "structure[\"Material_List\"] = ['SiO2', 'Au', 'Air']\n",
    "structure[\"Thickness_List\"] = [0, 50e-9, 0]\n",
    "\n",
    "gold_glass = multilayer(structure)\n",
    "\n",
    "\n",
    "### Plot reflectivity with a red line\n",
    "plt.plot(gold_glass.lambda_array*1e9, gold_glass.reflectivity_array, 'red', label = 'Reflectivity')\n",
    "### Plot transmissivity with a blue line\n",
    "plt.plot(gold_glass.lambda_array*1e9, gold_glass.transmissivity_array, 'blue',label ='Transmissivity')\n",
    "### Plot absorptivity/emissivity with a black line\n",
    "plt.plot(gold_glass.lambda_array*1e9, gold_glass.emissivity_array, 'black',label ='Emissivity')\n",
    "plt.xlabel(\"Wavelength (nm)\")\n",
    "plt.ylabel('Fresnel Quantities (arb. units)')\n",
    "plt.legend()\n",
    "plt.show()"
   ]
  },
  {
   "cell_type": "markdown",
   "metadata": {},
   "source": [
    "If we again look at the angular dependence of the reflection, we can see the\n",
    "characteristic reflection dip associated with Kretschmann-Raether excitation of surface waves."
   ]
  },
  {
   "cell_type": "code",
   "execution_count": null,
   "metadata": {},
   "outputs": [],
   "source": [
    "gold_glass.angular_fresnel(600e-9)\n",
    "plt.plot(180/np.pi*gold_glass.theta_array, gold_glass.r_vs_theta, 'red')\n",
    "plt.xlabel('Angle (degrees)')\n",
    "plt.ylabel(\"Reflectivity (arb. units)\")\n",
    "plt.show()"
   ]
  },
  {
   "cell_type": "markdown",
   "metadata": {},
   "source": [
    "We can also look render the color of the gold structure as before."
   ]
  },
  {
   "cell_type": "code",
   "execution_count": null,
   "metadata": {},
   "outputs": [],
   "source": [
    "gold_glass.ambient_color()"
   ]
  }
 ],
 "metadata": {
  "kernelspec": {
   "display_name": "Python 3",
   "language": "python",
   "name": "python3"
  },
  "language_info": {
   "codemirror_mode": {
    "name": "ipython",
    "version": 3
   },
   "file_extension": ".py",
   "mimetype": "text/x-python",
   "name": "python",
   "nbconvert_exporter": "python",
   "pygments_lexer": "ipython3",
   "version": "3.6.4"
  }
 },
 "nbformat": 4,
 "nbformat_minor": 2
}
