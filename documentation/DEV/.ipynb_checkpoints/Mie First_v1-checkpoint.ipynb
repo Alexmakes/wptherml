{
 "cells": [
  {
   "cell_type": "markdown",
   "metadata": {},
   "source": [
    "### Mie First\n",
    "Mie theory provides a route to the exact solution to Maxwell's equations for light interacting with a spherical object; this is done by expanding the incident and scattered\n",
    "light waves in a basis of multi-polar functions; hence one usually speaks about the dipolar contribution to scattering, the quadrupolar contribution, the octupolar, and so on.  For very large particles, many orders of this expansion may be needed, but for small particles the scattering and absorption is dominated by the dipolar contribution.  Hence, for spherical nanoparticles that are less than or equal to about 10 nm in diameter, the Mie theory expansion is truncated after only the first term.  As a concrete example, the Mie theory expression for the absorption of a small spherical nanoparticle is as follows:\n",
    "\n",
    "\\begin{equation}\n",
    "\\sigma_{abs}(\\lambda) = \\frac{2 \\pi}{\\lambda} {\\rm Im}\\left( \\alpha(\\lambda) \\right),\n",
    "\\end{equation}\n",
    "where $\\alpha(\\lambda)$ is the dipole polarizability given by\n",
    "\\begin{equation}\n",
    "\\alpha(\\lambda) = 4 \\pi r^3 \\left( \\frac{\\epsilon_p(\\lambda) - \\epsilon_s}{\\epsilon_p(\\lambda) + 2\\epsilon_s} \\right)\n",
    "\\end{equation}\n",
    "where $r$ is the radius of the particle, $\\epsilon_p(\\lambda)$ denotes the wavelength-dependent dielectric function of the material the particle is made from, $\\epsilon_s$ denotes the dielectric function of the surroundings (or solvent) that the particle is immersed in, and ${\\rm Im}$ means we will only take the imaginary part of the quotient (the dielectric function of the particle will typically be complex; if it is not, there will be no absorption).\n",
    "\n",
    "We can use WPTherml to get the refractive index of materials as a function of wavelength, which is equivalent to the dielectric function as a function of wavelength by\n",
    "\\begin{equation}\n",
    "\\epsilon_p(\\lambda) = n_p(\\lambda)^2,\n",
    "\\end{equation}\n",
    "where $n_p(\\lambda)$ is the refractive index of the particle. \n"
   ]
  },
  {
   "cell_type": "code",
   "execution_count": null,
   "metadata": {},
   "outputs": [],
   "source": []
  },
  {
   "cell_type": "code",
   "execution_count": 2,
   "metadata": {},
   "outputs": [
    {
     "name": "stdout",
     "output_type": "stream",
     "text": [
      " Temperature not specified!\n",
      " Proceeding with default T = 300 K\n"
     ]
    },
    {
     "data": {
      "image/png": "[encoded data removed]",
      "text/plain": [
       "<Figure size 432x288 with 1 Axes>"
      ]
     },
     "metadata": {
      "needs_background": "light"
     },
     "output_type": "display_data"
    },
    {
     "name": "stdout",
     "output_type": "stream",
     "text": [
      "617\n",
      "6.361971774588674e-17\n",
      "3.543271635817909e-07\n"
     ]
    }
   ],
   "source": [
    "from wptherml.wpml import multilayer\n",
    "from matplotlib import pyplot as plt\n",
    "from wptherml.datalib import datalib\n",
    "import numpy as np\n",
    "from numpy import linalg as LA\n",
    "import math\n",
    "\n",
    "structure = {\n",
    "\n",
    "        'Material_List': ['Air', 'Ag', 'Air'],\n",
    "        'Thickness_List': [0,  200e-9, 0],\n",
    "        'Lambda_List': [200e-9, 700e-9, 2000],\n",
    "     \n",
    "        }\n",
    "\n",
    "### create the silver object - call it sphere for no particular reason\n",
    "sphere = multilayer(structure)\n",
    "### get the refractive index of Ag (since it is layer 1 based on the structure above)\n",
    "n_Ag = sphere.layer_ri(1)\n",
    "### get the dielectric function of Ag\n",
    "eps_Ag = n_Ag * n_Ag\n",
    "\n",
    "'''Lets compute the Mie theory absorption of a 3 nm Ag particle in water, which \n",
    "   has refractive index = 1.33, here!'''\n",
    "r = 3e-9 ### fill in radius here, use meters!\n",
    "eps_s =  1.00 ### fill in dielectric function of water here!\n",
    "quotient = (eps_Ag - eps_s)/(eps_Ag + 2*eps_s) ### compute the quotient whose Imaginary part you need from Mie theory expression here\n",
    "alpha = 4*np.pi*r**3 * quotient\n",
    "pre = 2*np.pi/sphere.lambda_array ### compute pre-factor that depends on wavelength and radius here!\n",
    "sigma_abs = pre*np.imag(alpha) ### compute full absorption spectrum here!\n",
    "\n",
    "plt.plot(1240/(sphere.lambda_array*1e9), sigma_abs, 'red')\n",
    "plt.xlim(1.5, 4)\n",
    "plt.show()\n",
    "\n",
    "lidx = np.argmax(sigma_abs)\n",
    "print(lidx)\n",
    "print(sigma_abs[lidx])\n",
    "print(sphere.lambda_array[lidx])"
   ]
  },
  {
   "cell_type": "markdown",
   "metadata": {},
   "source": [
    "Mie theory provides a classical electrodynamics treatment of the absorption of light by matter; of course we can use quantum mechanics to simulate the absorption of light, as well.  In analogy to our previous Mie theory treatment, we can assume that the interaction between our quantum system and light is dominated by dipolar interactions.  In this view, the absorption of light occurs under the following conditions:\n",
    "(a) the energy associated with the absorbed light matches the energy difference between two energy eigenstates (call the intial energy eigenstate $\\psi_i$ and the final energy eigenstate $\\psi_f$, note that $E_i$ need not be less than $E_f$).\n",
    "(b) there is a charge displacement associated with the transition from $\\psi_i$ to $\\psi_f$; this gives rise to a *transition dipole moment* that is quantified by the expectation value\n",
    "\\begin{equation}\n",
    "\\mu_{if} = \\langle \\psi_i | \\hat{\\mu} | \\psi_f \\rangle,\n",
    "\\end{equation}\n",
    "where $\\hat{\\mu}$ is the transition dipole operator, given by $q {\\bf r}$ where\n",
    "$q$ is the charge (for a molecular transition, this would be a single electron charge) and \n",
    "${\\bf r}$ is the position operator for charged matter.  A bit of dimensional analysis reveals\n",
    "that the electric field (which has dimensions of electric potential over length) dotted into the dipole operator (which has dimensions of charge times length) has overal dimensions of energy, so we can think of the interaction of a time-varying electric field with the transition dipole moment of a quantum system as a time-varying potential term in its Hamiltonian.  This leads to the typical \"light-matter\" contribution to Hamiltonians:\n",
    "\\begin{equation}\n",
    "\\hat{H}(t) = \\hat{H}_0 - {\\bf E}(t) \\cdot \\hat{\\mu},\n",
    "\\end{equation}\n",
    "where $\\hat{H}_0$ is the Hamiltonian for your quantum system in the absence of the time-varying electric field (i.e. in the dark).\n",
    "\n",
    "### Who's in Liouville now\n",
    "We can see what impact light has on our quantum system by evolving the quantum state under the influence of the potential exerted by the light.  We can do this either by solving the time-dependent Schr\\\"odinger equation, or the analog of the time-dependent Schr\\\"odinger equation for the density matrix, which is called the Liouville equation.\n",
    "\n",
    "Here we will use the Liouville equation because it permits a simple modification that allows us to model spontaneous emission of absorbed light, and this effect will lead to the appropriate linewidth of the absorption spectrum we will simulate.  Some of you may recall the\n",
    "Liouville equation has the form\n",
    "\\begin{equation}\n",
    "\\frac{d}{dt} {\\bf D}(t) = \\frac{-i}{\\hbar} [{\\bf H}(t),{\\bf D}(t)],\n",
    "\\end{equation}\n",
    "where $[{\\bf H}(t),{\\bf D}(t)] = {\\bf H}(t){\\bf D}(t)-{\\bf D}(t){\\bf H}(t)$ is known as a commutator of the Hamiltonian and Density matrices.  A slightly modified form of the Liouville equation can account for exchange of energy with the surroundings without including additional quantum states corresponding to the surroundings (this is similar in spirit to the Langevin equation!); one such modification is called the Liouville-Lindblad equation, and contains an additional term (known as the Lindblad operator) that models exchange of energy between the system described by ${\\bf D}$ and the surrondings:\n",
    "\\begin{equation}\n",
    "\\frac{d}{dt} {\\bf D}(t) = \\frac{-i}{\\hbar} [{\\bf H}(t),{\\bf D}(t)] + \\hat{L}({\\bf D}(t)).\n",
    "\\end{equation}\n",
    "\n",
    "As one example, we can assume that our quantum system in its excited state can undergo spontaneous emission (which could give rise to fluorescence) with some frequency $\\gamma$, thereby leading the excited state to the ground state with the same frequency.  A Lindblad operator that takes this into account would have the form\n",
    "\\begin{equation}\n",
    "\\hat{L}({\\bf D}(t)) =  2\\gamma \\langle 2 | {\\bf D}(t) | 2 \\rangle | 1 \\rangle \\langle 1 | - \n",
    "\\gamma \\{ |2\\rangle \\langle 2|, {\\bf D}(t) \\},\n",
    "\\end{equation}\n",
    "where $|1\\rangle$ represents the ket for the ground state and $|2\\rangle$ represents the ket for the excited state.  \n",
    "\n",
    "We can consider modeling a silver nanoparticle as a quantum system with two energy eigenstates: the ground energy eigenstate (whose energy $E_1$ we can actually consider to be zero) and an excited state (whose energy is related to the absorption energy observed in \n",
    "the Mie theory spectrum previously observed, i.e. $E_2 = \\frac{h c}{\\lambda_{max}}$.\n",
    "Hence, the Hamiltonian matrix in the basis of energy eigenstates is as follows:\n",
    "\\begin{equation}\n",
    "{\\bf H_0} = \\left( \\begin{matrix}\n",
    "    0 & 0 \\\\\n",
    "    0 & E_2 \\\\\n",
    "\\end{matrix} \\right).\n",
    "\\end{equation}\n",
    "Each element is defined as \n",
    "\\begin{equation}\n",
    "H_{ij} = \\langle \\psi_i | \\hat{H} | \\psi_j \\rangle;\n",
    "\\end{equation}\n",
    "the off-diagonal elements are zero due to the ortonormality of the energy eigenstates, and\n",
    "element $H_{11} = 0$ due to $E_1$ being zero.  We also need the transition dipole matrix, \n",
    "which will contain information about how the system couples to light:\n",
    "\\begin{equation}\n",
    "{\\bf \\mu} = \\left( \\begin{matrix}\n",
    "    0 & \\mu_{12} \\\\\n",
    "    \\mu_{21} &  0 \\\\\n",
    "\\end{matrix} \\right).\n",
    "\\end{equation}\n",
    "Again, each element is defined as\n",
    "\\begin{equation}\n",
    "\\mu_{ij} = \\langle \\psi_i | \\hat{\\mu} | \\psi_j \\rangle,\n",
    "\\end{equation}\n",
    "and the diagonal elements are zero because the transition from any state $\\psi_i$ to \n",
    "the same state $\\psi_i$ does not displace charge (because the states are identical), and\n",
    "so there is no dipole moment associated with these \"transitions\".  We can also parameterize the transition dipole moments in terms of Mie theory absorption, and we will return to this parameterization shortly.\n",
    "\n",
    "For now, we can say we have a Hamiltonian matrix which can describe the interaction of\n",
    "a 2-level system to a light field:\n",
    "\\begin{equation}\n",
    "{\\bf H}(t) = {\\bf H_0} - E(t) \\cdot {\\bf \\mu},\n",
    "\\end{equation}\n",
    "where the time dependence arises because the electric field associated with light varies\n",
    "with time.  \n",
    "\n",
    "Let's imagine the light field is a single-frequency plane wave:\n",
    "\\begin{equation}\n",
    "E(t) = A \\: {\\rm exp}(i \\omega_2 t),\n",
    "\\end{equation}\n",
    "where $A$ is the amplitude and $\\hbar \\omega_2 = E_2$; solving the Liouville-Lindblad equation will reveal that the system transitions periodically between state 1 and state 2, and consequently experiences an oscillating dipole moment whose magnitude is proportional\n",
    "to the amplitude of the electric field.\n",
    "The value of this dipole can be computed at any instant in time by multiplying the instantaneous density matrix by the dipole matrix and summing over the diagonal values of the resulting matrix (called taking the trace):\n",
    "\\begin{equation}\n",
    "\\mu(t) = {\\rm Tr}\\left({\\bf D}(t) {\\bf \\mu} \\right).\n",
    "\\end{equation}\n",
    "In fact, this is what gives rise to the absorption spectrum, which can be computed as \n",
    "\\begin{equation}\n",
    "\\sigma_{abs}(\\omega) = \\frac{2\\pi}{\\lambda \\epsilon_0} {\\rm Im}( \\alpha(\\omega) ),\n",
    "\\end{equation}\n",
    "where the polaribility can be written in terms of the time-dependent electric\n",
    "field and dipole moment as\n",
    "\\begin{equation}\n",
    "\\alpha(\\omega) = \\frac{\\int_0^T {\\rm exp}(i \\omega t) \\mu(t) dt}{n^2 \\int_0^T {\\rm exp}(i \\omega t) E(t) dt}.\n",
    "\\end{equation}\n",
    "If we assume that $\\mu(t) = \\mu_{12} \\: A \\: {\\rm exp}(i \\omega_2 t)$, then both the numerator and denomentator simplify to\n",
    "\\begin{equation}\n",
    "\\alpha(\\omega) = \\frac{\\mu_{12} \\: A \\: \\delta(\\omega - \\omega_2)}{A \\delta(\\omega - \\omega_2)},\n",
    "\\end{equation}\n",
    "using the fact that the Fourier transform of a plane wave with frequency\n",
    "$\\omega_2$ is a delta function at $\\omega_2$.  Finally, then, we can see that the\n",
    "transition dipole moments $\\mu_{12} = \\mu_{21}$ is equal to the polarizability \n",
    "evaluated at frequency $\\omega_2$:\n",
    "\\begin{equation}\n",
    "\\mu_{12} = \\mu_{21} = 4 \\pi r^3 \\left( \\frac{\\epsilon_p(\\omega_2) - \\epsilon_s}{\\epsilon_p(\\omega_2) + 2\\epsilon_s} \\right).\n",
    "\\end{equation}\n",
    "\n",
    "Using the data from before, compute the polarizability of a $r=3nm$ Ag nanoparticle in air ($\\epsilon_s = 1.0$) to compute $\\mu_{12}$ for a model of this system.  In atomic units, $E_2 = 0.1275, \\mu_{12} = 58.$, and $\\gamma=0.0017$ gives excellent agreement with the Mie theory spectrum, as we will see below.\n"
   ]
  },
  {
   "cell_type": "markdown",
   "metadata": {},
   "source": []
  },
  {
   "cell_type": "code",
   "execution_count": 1,
   "metadata": {},
   "outputs": [],
   "source": [
    "from matplotlib import pyplot as plt\n",
    "import numpy as np\n",
    "from numpy import linalg as LA\n",
    "import math\n",
    "def RK4(H0, mu, Vint, gamma, D, h, t, tau):\n",
    "    k1 = np.zeros_like(D)\n",
    "    k2 = np.zeros_like(D)\n",
    "    k3 = np.zeros_like(D)\n",
    "    k4 = np.zeros_like(D)\n",
    "    D1 = np.zeros_like(D)\n",
    "    D2 = np.zeros_like(D)\n",
    "    D3 = np.zeros_like(D)\n",
    "    D4 = np.zeros_like(D)\n",
    "    Df = np.zeros_like(D)\n",
    "    \n",
    "    ### Get k1\n",
    "    H1 = H0 - EField(t, tau)*mu + Vint\n",
    "    D1 = np.copy(D)    \n",
    "    k1 = h*Liouville(H1,D1) + h*Lindblad(D1, gamma)\n",
    "    \n",
    "    ## Update H and D and get k2\n",
    "    H2 = H0 - EField(t+h/2, tau)*mu + Vint\n",
    "    D2 = D+k1/2.\n",
    "    k2 = h*Liouville(H2, D2) + h*Lindblad(D2, gamma)\n",
    "    \n",
    "    ### UPdate H and D and get k3\n",
    "    H3 = H2\n",
    "    D3 = D+k2/2\n",
    "    k3 = h*Liouville(H3, D3) + h*Lindblad(D3, gamma) \n",
    "    \n",
    "    ### Update H and D and get K4\n",
    "    H4 = H0 - EField(t+h, tau)*mu + Vint\n",
    "    D4 = D+k3\n",
    "    k4 = h*Liouville(H4, D4) + h*Lindblad(D4, gamma)\n",
    "    \n",
    "    Df = D + (1/6.)*(k1 + 2.*k2 + 2*k3 + k4)\n",
    "    return Df\n",
    "\n",
    "def Lindblad(D, gamma):\n",
    "    dim = len(D)\n",
    "    LD = np.zeros_like(D)\n",
    "    ### need |g><g|\n",
    "    bra_1 = CreateBas(dim, 0)\n",
    "    gm = Form_Rho(bra_1)\n",
    "    \n",
    "    for k in range(1,dim):\n",
    "        bra_k = CreateBas(dim, k)\n",
    "        km = Form_Rho(bra_k)\n",
    "        \n",
    "        ### first term 2*gam*<k|D|k>|g><g|\n",
    "        t1 = 2*gamma*D[k][k]*gm\n",
    "        ### second term is |k><k|*D\n",
    "        t2 = np.dot(km,D)\n",
    "        ### third term is  D*|k><k|\n",
    "        t3 = np.dot(D, km)\n",
    "        LD = LD + t1 - gamma*t2 - gamma*t3\n",
    "        \n",
    "    return LD\n",
    "\n",
    "### Take commutator of H and D to give Ddot\n",
    "def Liouville(H, D):\n",
    "    ci = 0.+1j\n",
    "    return -ci*(np.dot(H,D) - np.dot(D, H))\n",
    "\n",
    "def EField(t, tau):\n",
    "    #Ef = 0.00001*np.sin(0.1192*t)\n",
    "    Ef = 0.\n",
    "    if t<tau:\n",
    "        Ef = 0.001*np.sin(t*np.pi/tau)*np.sin(t*np.pi/tau)*np.sin(0.1192*t)\n",
    "    return Ef\n",
    "\n",
    "def Form_Rho(Psi):\n",
    "\n",
    "    D = np.outer(Psi,np.conj(Psi))\n",
    "    return D\n",
    "\n",
    "### Creates basis vector for state k\n",
    "### k=0 -> ground state, k=1 -> first excited-state, etc\n",
    "def CreateBas(dim, k):\n",
    "    bas = np.zeros(dim)\n",
    "    bas[k] = 1\n",
    "    return bas\n",
    "\n"
   ]
  },
  {
   "cell_type": "code",
   "execution_count": 19,
   "metadata": {},
   "outputs": [
    {
     "name": "stdout",
     "output_type": "stream",
     "text": [
      "0.0015707963267948967\n"
     ]
    },
    {
     "data": {
      "image/png": "[encoded data removed]",
      "text/plain": [
       "<Figure size 432x288 with 1 Axes>"
      ]
     },
     "metadata": {
      "needs_background": "light"
     },
     "output_type": "display_data"
    },
    {
     "data": {
      "image/png": "[encoded data removed]",
      "text/plain": [
       "<Figure size 432x288 with 1 Axes>"
      ]
     },
     "metadata": {
      "needs_background": "light"
     },
     "output_type": "display_data"
    }
   ],
   "source": [
    "dt = 0.1\n",
    "tau = 150.\n",
    "#gamma = 0.0017\n",
    "gamma = 0.005512\n",
    "eps0 = 8.854e-12\n",
    "mu_au_to_si = 8.47835326e-30\n",
    "E_au_to_si = 5.14220652e11\n",
    "\n",
    "#mu_z = 58.\n",
    "mu_z = 176.356700\n",
    "MUZ= np.zeros((2,2),dtype=complex)\n",
    "Vint = np.zeros((2,2),dtype=complex)\n",
    "D = np.zeros((2,2),dtype=complex)\n",
    "H0 = np.zeros((2,2))\n",
    "\n",
    "#H0[1][1] = 0.1275\n",
    "H0[1][1] = 0.075042\n",
    "D[0][0] = 1.+0j\n",
    "MUZ[0][1] = mu_z\n",
    "MUZ[1][0] = mu_z\n",
    "\n",
    "Nsteps = 40000\n",
    "ez = np.zeros(Nsteps)\n",
    "mu_of_t = np.zeros(Nsteps,dtype=complex)\n",
    "time = np.zeros(Nsteps)\n",
    "energy = np.zeros(Nsteps)\n",
    "\n",
    "\n",
    "\n",
    "for i in range(0,Nsteps):\n",
    "    energy[i] = np.pi*2*(i+1)/(Nsteps*dt)\n",
    "    time[i] = i*dt\n",
    "    ez[i] = EField(i*dt, tau)*E_au_to_si\n",
    "    D = RK4(H0, MUZ, Vint, gamma, D, dt, dt*i, tau)\n",
    "    DMU = np.matmul(D, MUZ)\n",
    "    mu_of_t[i] = (DMU[0][0] + DMU[1][1])*mu_au_to_si\n",
    "\n",
    "print(energy[0])\n",
    "\n",
    "plt.plot(time, mu_of_t)\n",
    "plt.show()\n",
    "\n",
    "mu_freq = np.fft.fft(mu_of_t)/(Nsteps)\n",
    "ez_freq = np.fft.fft(ez)/(Nsteps)\n",
    "alpha = mu_freq/ez_freq\n",
    "#alpha = np.fft.fft(mu_of_t)/np.fft.fft(ez)\n",
    "lam = 1e-9*1240/(energy*27.211) ### in nm\n",
    "\n",
    "sigma = 2*np.pi/(lam*eps0) * np.imag(alpha)\n",
    "plt.plot(energy*27.211, sigma, 'red')\n",
    "plt.plot(1240/(sphere.lambda_array*1e9), sigma_abs, 'b--')\n",
    "plt.xlim(1.5,4.0)\n",
    "plt.ylim(0,1e-16)\n",
    "#plt.plot(time, ez, 'red', time, mu_of_t, 'blue')\n",
    "plt.show()\n"
   ]
  },
  {
   "cell_type": "code",
   "execution_count": 31,
   "metadata": {},
   "outputs": [
    {
     "data": {
      "image/png": "[encoded data removed]",
      "text/plain": [
       "<Figure size 432x288 with 1 Axes>"
      ]
     },
     "metadata": {
      "needs_background": "light"
     },
     "output_type": "display_data"
    }
   ],
   "source": [
    "plt.plot(energy*27.211)\n",
    "plt.xlim(0.5, 4)\n",
    "plt.show()\n",
    "\n",
    "#mu_freq = np.fft.fft(mu_of_t)/(Nsteps)\n",
    "#ez_freq = np.fft.fft(ez)/(Nsteps)"
   ]
  },
  {
   "cell_type": "code",
   "execution_count": null,
   "metadata": {},
   "outputs": [],
   "source": []
  }
 ],
 "metadata": {
  "kernelspec": {
   "display_name": "Python 3",
   "language": "python",
   "name": "python3"
  },
  "language_info": {
   "codemirror_mode": {
    "name": "ipython",
    "version": 3
   },
   "file_extension": ".py",
   "mimetype": "text/x-python",
   "name": "python",
   "nbconvert_exporter": "python",
   "pygments_lexer": "ipython3",
   "version": "3.6.8"
  }
 },
 "nbformat": 4,
 "nbformat_minor": 2
}
