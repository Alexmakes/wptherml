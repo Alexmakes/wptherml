{
 "cells": [
  {
   "cell_type": "markdown",
   "metadata": {},
   "source": [
    "## Example 3: Optimizing the efficiency\n",
    "The luminous efficiency is defined by the following integral:\n",
    "\\begin{equation}\n",
    "\\eta_{lum} = \\frac{\\int_0^{\\infty} BB(\\lambda, T) \\epsilon(\\lambda) v(\\lambda) d\\lambda}{\\int_0^{\\infty} BB(\\lambda, T) \\epsilon(\\lambda)d\\lambda},\n",
    "\\end{equation}\n",
    "where $BB(\\lambda, T)$ is Planck's blackbody law, $\\epsilon(\\lambda)$ is the emissivity function \n",
    "of the structure, and $v(\\lambda)$ is the photopic luminosity function that characterizes the color sensisitivity of the human eye.  Only the $\\epsilon(\\lambda)$ function depends on the structure itself.\n",
    "As a consequence, we can imagine that by changing the thickness of a giving coating layer on \n",
    "a tungsten slab (as we saw in Example 2) can change the value of $\\eta_{lum}$, and some coating thickness\n",
    "will lead to a maximum value of $\\eta_{lum}$.  In the case where $\\eta_{lum}$ has been maximized through \n",
    "the thickness of a coating layer $t_{coat}$, we can say that the derivative of $\\eta_{lum}$ with respect\n",
    "to the coating thickness is zero:\n",
    "following condition:\n",
    "\\begin{equation} \n",
    "\\frac{d}{d t_{coat}} \\eta_{lum} = \\frac{d}{d t_{coat}} \\left( \\frac{\\int_0^{\\infty} BB(\\lambda, T) \\epsilon(\\lambda) v(\\lambda) d\\lambda}{\\int_0^{\\infty} BB(\\lambda, T) \\epsilon(\\lambda)d\\lambda} \\right) = 0.\n",
    "\\end{equation}\n",
    "\n",
    "The derivative of the luminous efficiency involves differentiating both the numerator and the denominator:\n",
    "\\begin{equation} \n",
    "\\frac{d}{d t_{coat}} \\eta_{lum} = \\frac{D(\\lambda, T) N'(\\lambda,T) - N(\\lambda, T) D'(\\lambda,T)}{D(\\lambda, T)^2}\n",
    "\\end{equation}\n",
    "where \n",
    "\\begin{equation}\n",
    "N'(\\lambda, T) = \\int_0^{\\infty} BB(\\lambda, T) \\frac{d}{dt_{coat}}\\epsilon(\\lambda) v(\\lambda) d\\lambda\n",
    "\\end{equation}\n",
    "and \n",
    "\\begin{equation}\n",
    "D'(\\lambda, T) = \\int_0^{\\infty} BB(\\lambda, T) \\frac{d}{dt_{coat}}\\epsilon(\\lambda) d\\lambda.\n",
    "\\end{equation}\n",
    "The equation above suggests that to get the derivative of $\\eta_{lum}$, we need to evaluate terms in the standard luminous efficiency expression using the derivative of the emissivity, $\\frac{d}{d t_{coat}} \\epsilon(\\lambda)$ in addition to $\\epsilon(\\lambda)$ itself. \n",
    "We can get $\\frac{d}{d t_{coat}} \\epsilon(\\lambda)$ in several ways; the conceptually simplest approach is to approximate it with $finite$ $differences$:\n",
    "\\begin{equation}\n",
    "\\frac{d}{d t_{coat}} \\epsilon(\\lambda; t_{coat}) \\approx \\frac{ \\epsilon(\\lambda; t_{coat}+dt) - \\epsilon(\\lambda; t_{coat}-dt)}{2dt}\n",
    "\\end{equation}\n",
    "where we use $\\epsilon(\\lambda; t_{coat})$ to denote the emissivity function evaluated for a structure with \n",
    "coating thickness $t_{coat}$ and $dt$ is a small change in thickness.\n",
    "\n",
    "One way to compute such finite differences is to create several instances of a coated structure we wish to investigate that are different by small changes in the coating thickness.  "
   ]
  },
  {
   "cell_type": "code",
   "execution_count": 1,
   "metadata": {},
   "outputs": [
    {
     "name": "stdout",
     "output_type": "stream",
     "text": [
      "Efficiency of coated slab is  2.6501065540679924\n",
      "Efficiency of forward is  2.651049308129195\n",
      "Efficiency of backward is  2.6491614776404178\n",
      "Gradient of efficiency is  9.439149798918717e-05\n",
      "Second estimate is  9.439152443885615e-05\n"
     ]
    }
   ],
   "source": [
    "from wptherml.wpml import multilayer\n",
    "from matplotlib import pyplot as plt\n",
    "\n",
    "### dictionary that stores basic properties \n",
    "### of the multilayer structure you want to simulate\n",
    "structure = {\n",
    "        ### computation mode - inline means the structure and calculation\n",
    "        ### type will be determined from the values of this dictionary\n",
    "        'mode': 'Inline',\n",
    "        ### temperature of the structure - relevant for all thermal applications\n",
    "        ### value is stored in attribute self.T\n",
    "        'Temperature': 2400,\n",
    "        ### actual materials the structure is made from\n",
    "        ### values are stored in the attribute self.n\n",
    "        'Material_List' : ['Air', 'SiO2', 'W', 'Air'], \n",
    "        ### thickness of each layer... terminal layers must be set to zero\n",
    "        ### values are stored in attribute self.d\n",
    "        'Thickness_List': [0, 50e-9, 900e-9, 0],\n",
    "         ### range of wavelengths optical properties will be calculated for\n",
    "         ### values are stored in the array self.lam\n",
    "        'Lambda_List': [300e-9, 4000e-9, 1000],\n",
    "         ### The folloing entry will tell the computer to use the lightbulb functions to\n",
    "         ### compute properties needed to characterize an incandescent source\n",
    "         'LIGHTBULB': 1\n",
    "     \n",
    "        }\n",
    "\n",
    "### create the instance called coated_w_slab that is the \"base\" structure we \n",
    "### wish to evaluate\n",
    "coated_w_slab = multilayer(structure)\n",
    "current_efficiency = coated_w_slab.eta_lum\n",
    "### modify the thickness list to make the SiO2 layer slightly thicker\n",
    "structure[\"Thickness_List\"] = [0, 50.1e-9, 900e-9, 0]\n",
    "### create an instance called coated_w_slab_f that is has a \"forward\" displacement of the\n",
    "### coating thickness\n",
    "coated_w_slab_f = multilayer(structure)\n",
    "### create an instance called coated_w_slab_b that is has a \"backward\" displacement of the\n",
    "### coating thickness\n",
    "structure[\"Thickness_List\"] = [0, 49.9e-9, 900e-9, 0]\n",
    "coated_w_slab_b = multilayer(structure)\n",
    "\n",
    "### all three instances will have emissivities associated with them... compute the\n",
    "### finite-difference approximation of the derivative of the emissivity wrt coating\n",
    "### thickness and store it to coated_w_slab.emissivity\n",
    "coated_w_slab.Emissivity_prime = (coated_w_slab_f.Emissivity - coated_w_slab_b.Emissivity)/0.2\n",
    "coated_w_slab.TE_prime = coated_w_slab.BBs * coated_w_slab.Emissivity_prime\n",
    "\n",
    "'''\n",
    "### now we can compute BB* d/dt emissivity by calling the thermal emission method\n",
    "plt.plot(coated_w_slab.lam*1e9, (coated_w_slab_f.TE - coated_w_slab_b.TE)/0.2, 'green')\n",
    "#plt.plot(coated_w_slab.lam*1e9, coated_w_slab_b.TE, 'b--')\n",
    "plt.plot(coated_w_slab.lam*1e9, coated_w_slab.TE, 'r--')\n",
    "plt.show()\n",
    "'''\n",
    "\n",
    "### and now we can compute d/dt of luminous efficiency by calling the LuminousEfficiency method\n",
    "coated_w_slab.LuminousEfficiency()\n",
    "coated_w_slab.luminous_efficiency_prime()\n",
    "current_efficiency_grad = coated_w_slab.eta_lum\n",
    "print(\"Efficiency of coated slab is \",current_efficiency*100)\n",
    "print(\"Efficiency of forward is \",coated_w_slab_f.eta_lum*100)\n",
    "print(\"Efficiency of backward is \",coated_w_slab_b.eta_lum*100)\n",
    "print(\"Gradient of efficiency is \",coated_w_slab.eta_lum_prime)\n",
    "print(\"Second estimate is \",(coated_w_slab_f.eta_lum - coated_w_slab_b.eta_lum)/0.2)\n",
    "\n"
   ]
  },
  {
   "cell_type": "code",
   "execution_count": 6,
   "metadata": {},
   "outputs": [
    {
     "data": {
      "image/png": "[encoded data removed]",
      "text/plain": [
       "<matplotlib.figure.Figure at 0x10891ba58>"
      ]
     },
     "metadata": {},
     "output_type": "display_data"
    }
   ],
   "source": [
    "### method to compute reflectivity, transmissivity, and absorptivity vs angle at a specified\n",
    "### wavelength... results are stored in the attributes\n",
    "### self.r_vs_theta, self.t_vs_theta, and self.eps_vs_theta... array of angles is self.theta_array\n",
    "import numpy as np\n",
    "N_points = 40\n",
    "eta_vs_d = np.zeros(N_points)\n",
    "eta_p_vs_d = np.zeros(N_points)\n",
    "d_array = np.linspace(40e-9,200e-9,N_points)\n",
    "delta = 0.1e-9\n",
    "i = 0\n",
    "for dsio2 in d_array:\n",
    "    coated_w_slab.d[1] = dsio2\n",
    "    coated_w_slab.Fresnel()\n",
    "    coated_w_slab.Fresnel_Prime()\n",
    "    coated_w_slab.TE_prime = coated_w_slab.BBs * coated_w_slab.Emissivity_prime\n",
    "    coated_w_slab.luminous_efficiency_prime()\n",
    "    eta_vs_d[i] = coated_w_slab.eta_lum_prime\n",
    "    \n",
    "    coated_w_slab_f.d[1] = dsio2 + delta\n",
    "    coated_w_slab_b.d[1] = dsio2 - delta\n",
    "    coated_w_slab_f.Fresnel()\n",
    "    coated_w_slab_b.Fresnel()\n",
    "    coated_w_slab.Emissivity_prime = (coated_w_slab_f.Emissivity - coated_w_slab_b.Emissivity)/(2*delta)\n",
    "    coated_w_slab.TE_prime = coated_w_slab.BBs * coated_w_slab.Emissivity_prime\n",
    "    coated_w_slab.luminous_efficiency_prime()\n",
    "    eta_p_vs_d[i] = coated_w_slab.eta_lum_prime \n",
    "    i = i + 1\n",
    "\n",
    "plt.plot(d_array, eta_vs_d, 'red')\n",
    "plt.plot(d_array, eta_p_vs_d, 'blue')\n",
    "#plt.xlim(0.5,0.9)\n",
    "plt.show()\n",
    "#plt.plot(180/np.pi*glass_slab.theta_array, glass_slab.r_vs_theta, 'red')\n",
    "#plt.show()"
   ]
  },
  {
   "cell_type": "markdown",
   "metadata": {},
   "source": [
    "We can use a built-in capability of the scipy library to find the optimium value of the coating\n",
    "thickness in a given range.  In particular, we can use what is called a quasi-Newtom method, the BFGS method in particular, to optimize the thickness: https://en.wikipedia.org/wiki/Quasi-Newton_method\n",
    "The scipy function $minimize$ can be called to perform such an optimization to minimize a function given \n",
    "the ability to evaluate that function at various points and the ability to evaluate its derivative.  Note that if we just define a python function that returns $1-\\eta_{lum}$ and a python function that returns the derivative of $1-\\eta_{lum}$, then scipy's $minimize$ can find the minimum of $1-\\eta_{lum}$, which is the same as the maximum of $\\eta_{lum}$ itself."
   ]
  },
  {
   "cell_type": "code",
   "execution_count": 8,
   "metadata": {},
   "outputs": [],
   "source": [
    "### import minimize function from scipy\n",
    "from scipy.optimize import minimize"
   ]
  },
  {
   "cell_type": "code",
   "execution_count": 9,
   "metadata": {},
   "outputs": [],
   "source": [
    "### define a function that returns 1-eta_lum for the simple coated w structure\n",
    "def objective(x):\n",
    "    val = x[0]\n",
    "    coated_w_slab.d[1] = val\n",
    "    coated_w_slab.Fresnel()\n",
    "    coated_w_slab.ThermalEmission()\n",
    "    coated_w_slab.LuminousEfficiency()\n",
    "    return (1 - coated_w_slab.eta_lum)\n",
    "    #return (val-10)**2\n",
    "\n",
    "\n",
    "def objective_der(x):\n",
    "    val = x[0]\n",
    "    #grad = 2*val - 20\n",
    "    delta = 0.05e-9\n",
    "    coated_w_slab.d[1] = val\n",
    "    #coated_w_slab_f.d[1] = val + delta\n",
    "    #coated_w_slab_b.d[1] = val - delta\n",
    "    coated_w_slab.Fresnel()\n",
    "    coated_w_slab.Fresnel_Prime()\n",
    "    coated_w_slab.ThermalEmission()\n",
    "    coated_w_slab.TE_prime = coated_w_slab.BBs * coated_w_slab.Emissivity_prime\n",
    "    coated_w_slab.luminous_efficiency_prime()\n",
    "    return coated_w_slab.eta_lum_prime \n",
    "    #return grad\n",
    "\n",
    "\n",
    "    \n",
    "    "
   ]
  },
  {
   "cell_type": "code",
   "execution_count": 11,
   "metadata": {},
   "outputs": [
    {
     "name": "stdout",
     "output_type": "stream",
     "text": [
      "[5.e-08]\n",
      "0.9734989344593201\n",
      "94391.88519034446\n",
      "Optimization terminated successfully.\n",
      "         Current function value: 0.972415\n",
      "         Iterations: 10\n",
      "         Function evaluations: 20\n",
      "[6.9765625e-08]\n",
      "-167.18496192301913\n"
     ]
    }
   ],
   "source": [
    "x0 = np.array([50e-9])\n",
    "print(x0)\n",
    "print(objective(x0))\n",
    "print(objective_der(x0))\n",
    "#res = minimize(objective, x0, method='BFGS', jac=objective_der, options={'gtol': 1e0, 'disp': True})\n",
    "res = minimize(objective, x0, method='nelder-mead', options={'xtol': 1e-10, 'disp': True})\n",
    "print(res.x)\n",
    "print(objective_der(res.x))"
   ]
  },
  {
   "cell_type": "code",
   "execution_count": null,
   "metadata": {},
   "outputs": [],
   "source": [
    "print(objective_der(res.x))"
   ]
  },
  {
   "cell_type": "code",
   "execution_count": null,
   "metadata": {},
   "outputs": [],
   "source": []
  }
 ],
 "metadata": {
  "kernelspec": {
   "display_name": "Python 3",
   "language": "python",
   "name": "python3"
  },
  "language_info": {
   "codemirror_mode": {
    "name": "ipython",
    "version": 3
   },
   "file_extension": ".py",
   "mimetype": "text/x-python",
   "name": "python",
   "nbconvert_exporter": "python",
   "pygments_lexer": "ipython3",
   "version": "3.6.4"
  }
 },
 "nbformat": 4,
 "nbformat_minor": 2
}
