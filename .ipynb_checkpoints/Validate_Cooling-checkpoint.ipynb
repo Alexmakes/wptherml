{
 "cells": [
  {
   "cell_type": "markdown",
   "metadata": {
    "slideshow": {
     "slide_type": "slide"
    }
   },
   "source": [
    "## Validation of Cooling Lib\n",
    "This notebook will build the multi-layer structure described in Raman $et$ $al.$, Nature 515, 540-546 (2014), compute plot its emissivity in the solar region and in the atmospheric transmissivity region of the spectrum (~300-2500 nm for the former, 2500-20000 nm for the latter), and compute the cooling power for several different differences between the temperature of the structure and the ambient temperature.  \n"
   ]
  },
  {
   "cell_type": "code",
   "execution_count": 2,
   "metadata": {
    "slideshow": {
     "slide_type": "slide"
    }
   },
   "outputs": [
    {
     "data": {
      "text/plain": [
       "<matplotlib.figure.Figure at 0x10bc9afd0>"
      ]
     },
     "metadata": {},
     "output_type": "display_data"
    }
   ],
   "source": [
    "from wptherml.wpml import multilayer\n",
    "from matplotlib import pyplot as plt\n",
    "from wptherml.datalib import datalib\n",
    "\n",
    "### dictionary that stores basic properties \n",
    "### of the multilayer structure you want to simulate\n",
    "structure = {\n",
    "        ### computation mode - inline means the structure and calculation\n",
    "        ### type will be determined from the values of this dictionary\n",
    "        'mode': 'Inline',\n",
    "        ### temperature of the structure - relevant for all thermal applications\n",
    "        ### value is stored in attribute self.T_ml\n",
    "        'Temperature': 300,\n",
    "        ### ambient temperature - relevant for cooling lib because it determines the\n",
    "        ### the thermal emission of the atmosphere\n",
    "        ### actual materials the structure is made from\n",
    "        'Ambient_Temperature': 300,\n",
    "        ### This is the structure described in Figure 1 of Raman et al.\n",
    "        'Material_List': ['Air', 'SiO2', 'HfO2', 'SiO2', 'HfO2', 'SiO2', 'HfO2', 'SiO2', 'Ag', 'Air'],\n",
    "        ### thickness of each layer... terminal layers must be set to zero\n",
    "        ### values are stored in attribute self.d\n",
    "        'Thickness_List': [0, 230e-9, 485e-9, 688e-9, 13e-9, 73e-9, 34e-9, 54e-9, 200e-9, 0],\n",
    "        ### We need to span solar spectrum and atmospheric transmissivity window\n",
    "        ### solar spectrum spans ~300 - 2500 nm, and atmospheric transmissivity + BB spectrum\n",
    "        ### of terrestrial bodies at ambient T span ~2500 nm - 20,000 nm\n",
    "        'Lambda_List': [300e-9, 20000e-9, 3000],\n",
    "        ### We need to compute the emissivity of the structure as a function of angle\n",
    "        ### to get the total radiated power / absorbed power\n",
    "        'EXPLICIT_ANGLE': 1,\n",
    "        ### The folloing entry will tell the computer to use the coolinglib functions\n",
    "        'COOLING': 1\n",
    "     \n",
    "        }\n",
    "\n",
    "w_slab = multilayer(structure)\n",
    "AM = datalib.AM(w_slab.lambda_array)\n",
    "\n",
    "plt.plot(w_slab.lambda_array*1e6, w_slab.emissivity_array, 'blue')\n",
    "plt.plot(w_slab.lambda_array*1e6, AM/(1.4*1e9), 'red')\n",
    "plt.xlim(0.3,2.5)\n",
    "plt.show()"
   ]
  },
  {
   "cell_type": "code",
   "execution_count": 3,
   "metadata": {
    "slideshow": {
     "slide_type": "slide"
    }
   },
   "outputs": [
    {
     "data": {
      "image/png": "[encoded data removed]",
      "text/plain": [
       "<matplotlib.figure.Figure at 0x181930ae10>"
      ]
     },
     "metadata": {},
     "output_type": "display_data"
    }
   ],
   "source": [
    "T_atm = datalib.ATData(w_slab.lambda_array)\n",
    "plt.plot(w_slab.lambda_array*1e6, T_atm, 'cyan', label='Atmospheric Transparency')\n",
    "plt.plot(w_slab.lambda_array*1e6, w_slab.emissivity_array, 'red', label='Emissivity')\n",
    "plt.xlim(2.5,20)\n",
    "plt.show()"
   ]
  },
  {
   "cell_type": "code",
   "execution_count": 4,
   "metadata": {
    "slideshow": {
     "slide_type": "slide"
    }
   },
   "outputs": [
    {
     "name": "stdout",
     "output_type": "stream",
     "text": [
      "Radiative Power (cooling) is  112.07504423037778 W/m^2\n",
      "Absorbed Solar Power (warming) is  18.650411143871267 W/m^2\n",
      "Absorbed Atmospheric Radiation (warming) is  30.030062821050276 W/m^2\n",
      "Net Power flux out of the structure is  63.39457026545624 W/m^2\n"
     ]
    }
   ],
   "source": [
    "w_slab.cooling_power()\n",
    "\n",
    "print(\"Radiative Power (cooling) is \",w_slab.radiative_power_val, \"W/m^2\")\n",
    "print(\"Absorbed Solar Power (warming) is \",w_slab.solar_power_val, \"W/m^2\")\n",
    "print(\"Absorbed Atmospheric Radiation (warming) is \",w_slab.atmospheric_power_val, \"W/m^2\")\n",
    "print(\"Net Power flux out of the structure is \",w_slab.cooling_power_val, \"W/m^2\")"
   ]
  },
  {
   "cell_type": "code",
   "execution_count": null,
   "metadata": {},
   "outputs": [],
   "source": []
  }
 ],
 "metadata": {
  "kernelspec": {
   "display_name": "Python 3",
   "language": "python",
   "name": "python3"
  },
  "language_info": {
   "codemirror_mode": {
    "name": "ipython",
    "version": 3
   },
   "file_extension": ".py",
   "mimetype": "text/x-python",
   "name": "python",
   "nbconvert_exporter": "python",
   "pygments_lexer": "ipython3",
   "version": "3.6.4"
  }
 },
 "nbformat": 4,
 "nbformat_minor": 2
}
