{
 "cells": [
  {
   "cell_type": "markdown",
   "metadata": {},
   "source": [
    "## Validation of Basic Optical Properties\n",
    "This notebook will run a series of calculations to validate the transfer matrix routines\n",
    "used to compute reflectivity, transmissivity, and emissivity as a function of wavelength and angle.\n"
   ]
  },
  {
   "cell_type": "markdown",
   "metadata": {},
   "source": [
    "### Optical properties of noble metal films\n",
    "#### Reflectivity, Transmissivity, and Emissivity vs wavelength for 50 nm gold"
   ]
  },
  {
   "cell_type": "code",
   "execution_count": 1,
   "metadata": {},
   "outputs": [
    {
     "ename": "ImportError",
     "evalue": "cannot import name 'TMM'",
     "output_type": "error",
     "traceback": [
      "\u001b[0;31m---------------------------------------------------------------------------\u001b[0m",
      "\u001b[0;31mImportError\u001b[0m                               Traceback (most recent call last)",
      "\u001b[0;32m<ipython-input-1-cc80321fe11e>\u001b[0m in \u001b[0;36m<module>\u001b[0;34m()\u001b[0m\n\u001b[0;32m----> 1\u001b[0;31m \u001b[0;32mfrom\u001b[0m \u001b[0mwptherml\u001b[0m\u001b[0;34m.\u001b[0m\u001b[0mwpml\u001b[0m \u001b[0;32mimport\u001b[0m \u001b[0mmultilayer\u001b[0m\u001b[0;34m\u001b[0m\u001b[0m\n\u001b[0m\u001b[1;32m      2\u001b[0m \u001b[0;32mfrom\u001b[0m \u001b[0mmatplotlib\u001b[0m \u001b[0;32mimport\u001b[0m \u001b[0mpyplot\u001b[0m \u001b[0;32mas\u001b[0m \u001b[0mplt\u001b[0m\u001b[0;34m\u001b[0m\u001b[0m\n\u001b[1;32m      3\u001b[0m \u001b[0;32mimport\u001b[0m \u001b[0mnumpy\u001b[0m \u001b[0;32mas\u001b[0m \u001b[0mnp\u001b[0m\u001b[0;34m\u001b[0m\u001b[0m\n\u001b[1;32m      4\u001b[0m \u001b[0;34m\u001b[0m\u001b[0m\n\u001b[1;32m      5\u001b[0m ''' In the following examples, we will compute the reflectivity, transmissivity, and absorptivity/emissivity\n",
      "\u001b[0;32m~/CODE/wptherml/wptherml/wpml.py\u001b[0m in \u001b[0;36m<module>\u001b[0;34m()\u001b[0m\n\u001b[1;32m      6\u001b[0m \u001b[0;34m@\u001b[0m\u001b[0mauthor\u001b[0m\u001b[0;34m:\u001b[0m \u001b[0mjay\u001b[0m\u001b[0;34m\u001b[0m\u001b[0m\n\u001b[1;32m      7\u001b[0m \"\"\"\n\u001b[0;32m----> 8\u001b[0;31m \u001b[0;32mfrom\u001b[0m \u001b[0mwptherml\u001b[0m \u001b[0;32mimport\u001b[0m \u001b[0mTMM\u001b[0m\u001b[0;34m\u001b[0m\u001b[0m\n\u001b[0m\u001b[1;32m      9\u001b[0m \u001b[0;32mfrom\u001b[0m \u001b[0mwptherml\u001b[0m \u001b[0;32mimport\u001b[0m \u001b[0mcolorlib\u001b[0m\u001b[0;34m\u001b[0m\u001b[0m\n\u001b[1;32m     10\u001b[0m \u001b[0;32mfrom\u001b[0m \u001b[0mwptherml\u001b[0m \u001b[0;32mimport\u001b[0m \u001b[0mstpvlib\u001b[0m\u001b[0;34m\u001b[0m\u001b[0m\n",
      "\u001b[0;31mImportError\u001b[0m: cannot import name 'TMM'"
     ]
    }
   ],
   "source": [
    "from wptherml.wpml import multilayer\n",
    "from matplotlib import pyplot as plt\n",
    "import numpy as np\n",
    "\n",
    "''' In the following examples, we will compute the reflectivity, transmissivity, and absorptivity/emissivity\n",
    "    of simple noble metal films.  Validation data was obtained using S. Byrnes tmm program, \n",
    "    which can be obtained from: https://github.com/sbyrnes321/tmm '''\n",
    "\n",
    "### dictionary that stores basic properties \n",
    "### of the multilayer structure you want to simulate\n",
    "structure = {\n",
    "        ### computation mode - inline means the structure and calculation\n",
    "        ### type will be determined from the values of this dictionary\n",
    "        'mode': 'Inline',\n",
    "        ### temperature of the structure - relevant for all thermal applications\n",
    "        ### value is stored in attribute self.T\n",
    "        'Temperature': 300,\n",
    "        ### gold film with air above and belo\n",
    "        'Material_List': ['Air', 'Au', 'Air'],\n",
    "        ### gold film is 50 nm thick\n",
    "        'Thickness_List': [0, 50e-9, 0],\n",
    "         ### range of wavelengths optical properties will be calculated for\n",
    "         ### values are stored in the array self.lam\n",
    "        'Lambda_List': [200e-9, 1000e-9, 1000]\n",
    "        }\n",
    "\n",
    "gold_film = multilayer(structure)\n",
    "\n",
    "validate_data = np.loadtxt('validation_data/50nm_Au_wl_scan.txt')\n",
    "n_rows = len(validate_data)\n",
    "valid_lam = np.zeros(n_rows)\n",
    "valid_R = np.zeros_like(valid_lam)\n",
    "valid_T = np.zeros_like(valid_lam)\n",
    "valid_E = np.zeros_like(valid_lam)\n",
    "### validate_data column 0 is the wavelength\n",
    "### validate_data column 1 is the reflectivity\n",
    "### validata_data column 2 is the transmissivity\n",
    "### validate_data column 3 is the emissivity\n",
    "for i in range(0,n_rows):\n",
    "    valid_lam[i] = validate_data[i][0]\n",
    "    valid_R[i] = validate_data[i][1]\n",
    "    valid_T[i] = validate_data[i][2]\n",
    "    valid_E[i] = validate_data[i][3]\n",
    "    \n",
    "### plot wptherml reflectivity with red lines, validation data with blue dashed lines\n",
    "plt.plot(1e9*gold_film.lam, gold_film.Reflectivity, 'red')\n",
    "plt.plot(1e9*valid_lam, valid_R, 'b--')\n",
    "plt.show()\n",
    "\n",
    "### plot wptherml transmissivity with red lines, validation data with blue dashed lines\n",
    "plt.plot(1e9*gold_film.lam, gold_film.Transmissivity, 'red')\n",
    "plt.plot(1e9*valid_lam, valid_T, 'b--')\n",
    "plt.show()\n",
    "\n",
    "### plot wptherml emissivity with red lines, validation data with blue dashed lines\n",
    "plt.plot(1e9*gold_film.lam, gold_film.Emissivity, 'red')\n",
    "plt.plot(1e9*valid_lam, valid_E, 'b--')\n",
    "plt.show()"
   ]
  },
  {
   "cell_type": "markdown",
   "metadata": {},
   "source": [
    "#### Reflection vs angle for 50 nm gold atop semi-infinite glass at $\\lambda = 616 nm$"
   ]
  },
  {
   "cell_type": "code",
   "execution_count": 4,
   "metadata": {},
   "outputs": [
    {
     "name": "stdout",
     "output_type": "stream",
     "text": [
      "[[1.45+0.j 1.45+0.j 1.45+0.j ... 1.45+0.j 1.45+0.j 1.45+0.j]\n",
      " [1.45+0.j 1.45+0.j 1.45+0.j ... 1.45+0.j 1.45+0.j 1.45+0.j]\n",
      " [1.45+0.j 1.45+0.j 1.45+0.j ... 1.45+0.j 1.45+0.j 1.45+0.j]]\n"
     ]
    },
    {
     "data": {
      "image/png": "[encoded data removed]",
      "text/plain": [
       "<matplotlib.figure.Figure at 0x1819acc320>"
      ]
     },
     "metadata": {},
     "output_type": "display_data"
    }
   ],
   "source": [
    "### first we can just modify the previous gold_film object to have a glass substrate layer.\n",
    "### the validation data assumed n = 1.45 for a wavelengths of glass, so we will do so here as well.\n",
    "gold_film.LayerStaticRI(2, 1.45+0j)\n",
    "print(gold_film.n)\n",
    "\n",
    "### use the angular_fresnel method of the multilayer class to compute \n",
    "### the reflectivity vs angle for the gold_slab structure at a specified wavelength (in SI units)\n",
    "gold_film.angular_fresnel(616e-9)\n",
    "\n",
    "### read validation data generated by S. Byrnes tmm code\n",
    "validate_data = np.loadtxt('validation_data/50nm_Au_theta_scan.txt')\n",
    "n_rows = len(validate_data)\n",
    "valid_theta = np.zeros(n_rows)\n",
    "valid_R = np.zeros_like(valid_theta)\n",
    "\n",
    "### validate_data column 0 is the angle in degrees\n",
    "### validate_data column 1 is the reflectivity\n",
    "for i in range(0,n_rows):\n",
    "    valid_theta[i] = validate_data[i][0]\n",
    "    valid_R[i] = validate_data[i][1]\n",
    "\n",
    "plt.plot(gold_film.theta_array*180./np.pi, gold_film.r_vs_theta, 'red')\n",
    "plt.plot(valid_theta, valid_R, 'b--')\n",
    "plt.show()"
   ]
  },
  {
   "cell_type": "markdown",
   "metadata": {},
   "source": [
    "#### Reflectivity, Transmissivity, and Emissivity vs angle for 50 nm gold at $\\lambda = 616 nm$"
   ]
  },
  {
   "cell_type": "markdown",
   "metadata": {},
   "source": [
    "### Optical properties of Critically-Coupled Stack"
   ]
  },
  {
   "cell_type": "code",
   "execution_count": null,
   "metadata": {},
   "outputs": [],
   "source": [
    "''' In this example we will reproduce the emissivity, reflectivity, and transmissivity \n",
    "    of the structure illustrated in Figure 3 of Adv. Energy Mater. 2018, 1801035 '''\n",
    "\n",
    "### dictionary that stores basic properties \n",
    "### of the multilayer structure you want to simulate\n",
    "\n",
    "structure = {\n",
    "        ### computation mode - inline means the structure and calculation\n",
    "        ### type will be determined from the values of this dictionary\n",
    "        'mode': 'Inline',\n",
    "        ### temperature of the structure - relevant for all thermal applications\n",
    "        ### value is stored in attribute self.T\n",
    "        'Temperature': 1700,\n",
    "        ### initial material list will be *almost* what we want to model to \n",
    "        ### reproduce Fig. 3... we will need to make layer 1 an alloy after instantiation\n",
    "        ### and give the RIs static values, as was done in the AEM paper\n",
    "        'Material_List': ['Air', 'Al2O3', 'SiO2', 'TiO2', 'SiO2', 'Al2O3', 'W', 'Air'],\n",
    "        ### these are the thicknesses of the structure in Fig. 3\n",
    "        'Thickness_List': [0, 20e-9, 255e-9, 150e-9, 255e-9, 10e-9, 900e-9, 0],\n",
    "         ### range of wavelengths optical properties will be calculated for\n",
    "         ### values are stored in the array self.lam\n",
    "        'Lambda_List': [400e-9, 6000e-9, 1000]\n",
    "        }\n",
    "\n",
    "### create the instance called glass_slab\n",
    "fig_3 = multilayer(structure)\n",
    "### make layer 1 an alloy of alumina and W where volume fraction\n",
    "### of W is 0.75\n",
    "fig_3.layer_alloy(1, 0.75, 1.66+0j, 'W', 'MaxwellGarnett')\n",
    "\n",
    "### make all dielectric layers have fixed RI\n",
    "fig_3.LayerStaticRI(2, 1.45+0j)\n",
    "fig_3.LayerStaticRI(3, 2.10+0j)\n",
    "fig_3.LayerStaticRI(4, 1.45+0j)\n",
    "fig_3.LayerStaticRI(5, 1.66+0j)\n",
    "\n",
    "\n",
    "### recompute all Fresnel properties now that we have an alloy layer\n",
    "fig_3.Fresnel()\n",
    "\n",
    "### read validation data... this data was generated with the tmm program writen by S. Byrnes \n",
    "### using the RI and geometry data as described in Adv. Energy Mater. 2018, 1801035\n",
    "### S. Byrnes tmm program can be obtained from: https://github.com/sbyrnes321/tmm\n",
    "validate_data = np.loadtxt('validation_data/AEM_Fig3.txt')\n",
    "\n",
    "n_rows = len(validate_data)\n",
    "valid_lam = np.zeros(n_rows)\n",
    "valid_R = np.zeros_like(valid_lam)\n",
    "valid_T = np.zeros_like(valid_lam)\n",
    "valid_E = np.zeros_like(valid_lam)\n",
    "### validate_data column 0 is the wavelength\n",
    "### validate_data column 1 is the reflectivity\n",
    "### validata_data column 2 is the transmissivity\n",
    "### validate_data column 3 is the emissivity\n",
    "for i in range(0,n_rows):\n",
    "    valid_lam[i] = validate_data[i][0]\n",
    "    valid_R[i] = validate_data[i][1]\n",
    "    valid_T[i] = validate_data[i][2]\n",
    "    valid_E[i] = validate_data[i][3]\n",
    "    \n",
    "\n",
    "    \n",
    "\n"
   ]
  },
  {
   "cell_type": "markdown",
   "metadata": {},
   "source": [
    "Upon instantiation, the basic optical properties (reflectivity, transmissivity, absorptivity/emissivity) are computed using the method $self.Fresnel()$ and stored as attributes $self.Reflectivity$, $self.Transmissivity$, $self.Emissivity$.  We will plot them as a function \n",
    "of wavelength in nanometers using pyplot in the following lines.  Note that we store all quantities in SI units, so we will multiply all values of $self.lam$ by $10^9 nm/m$ to convert the wavelengths to nanometers."
   ]
  },
  {
   "cell_type": "code",
   "execution_count": null,
   "metadata": {},
   "outputs": [],
   "source": [
    "### Plot wptherml R vs validation R\n",
    "plt.plot(fig_3.lam*1e9, fig_3.Reflectivity, 'blue', valid_lam*1e9, valid_R, 'r--')\n",
    "plt.show()\n",
    "\n",
    "### Plot wptherml T vs validation T\n",
    "plt.plot(fig_3.lam*1e9, fig_3.Transmissivity, 'blue', valid_lam*1e9, valid_T, 'r--')\n",
    "plt.show()\n",
    "\n",
    "### Plot wptherml E vs validation E\n",
    "plt.plot(fig_3.lam*1e9, fig_3.Emissivity, 'blue', valid_lam*1e9, valid_E, 'r--')\n",
    "plt.show()\n"
   ]
  },
  {
   "cell_type": "markdown",
   "metadata": {},
   "source": [
    "We can also call a method called $AmbientColor$ to render the color of this structure."
   ]
  },
  {
   "cell_type": "markdown",
   "metadata": {},
   "source": [
    "### Optical properties of a gold film on a glass substrate\n",
    "Let's create a new instance of the  50 nm layer of gold deposite on glass with air above.\n",
    "Unlike the glass film, this structure will exhibit absorption.\n"
   ]
  },
  {
   "cell_type": "code",
   "execution_count": null,
   "metadata": {},
   "outputs": [],
   "source": [
    "structure[\"Material_List\"] = ['SiO2', 'Au', 'Air']\n",
    "structure[\"Thickness_List\"] = [0, 50e-9, 0]\n",
    "structure[\"Lambda_List\"] = [400e-9, 800e-9, 2000]\n",
    "\n",
    "gold_glass = multilayer(structure)\n",
    "\n",
    "\n",
    "### Plot reflectivity with a red line\n",
    "plt.plot(gold_glass.lam*1e9, gold_glass.Reflectivity, 'red')\n",
    "### Plot transmissivity with a blue line\n",
    "plt.plot(gold_glass.lam*1e9, gold_glass.Transmissivity, 'blue')\n",
    "### Plot absorptivity/emissivity with a black line\n",
    "plt.plot(gold_glass.lam*1e9, gold_glass.Emissivity, 'black')"
   ]
  },
  {
   "cell_type": "markdown",
   "metadata": {},
   "source": [
    "If we again look at the angular dependence of the reflection, we can see the\n",
    "characteristic reflection dip associated with Kretschmann-Raether excitation of surface waves."
   ]
  },
  {
   "cell_type": "code",
   "execution_count": null,
   "metadata": {},
   "outputs": [],
   "source": [
    "gold_glass.angular_fresnel(600e-9)\n",
    "plt.plot(180/np.pi*gold_glass.theta_array, gold_glass.r_vs_theta, 'red')\n",
    "plt.show()"
   ]
  }
 ],
 "metadata": {
  "kernelspec": {
   "display_name": "Python 3",
   "language": "python",
   "name": "python3"
  },
  "language_info": {
   "codemirror_mode": {
    "name": "ipython",
    "version": 3
   },
   "file_extension": ".py",
   "mimetype": "text/x-python",
   "name": "python",
   "nbconvert_exporter": "python",
   "pygments_lexer": "ipython3",
   "version": "3.6.4"
  }
 },
 "nbformat": 4,
 "nbformat_minor": 2
}
