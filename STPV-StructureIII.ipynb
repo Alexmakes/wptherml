{
 "cells": [
  {
   "cell_type": "markdown",
   "metadata": {
    "slideshow": {
     "slide_type": "slide"
    }
   },
   "source": [
    "## STPV Figures of Merit\n",
    "Purpose is to compute figures of merit for structures in \"High Temperature Selective Emitter Design and Materials: Titanium Aluminum Nitride Alloys for Thermophotovoltaics\", specifically Structure III from figure 2  \n"
   ]
  },
  {
   "cell_type": "code",
   "execution_count": 4,
   "metadata": {
    "slideshow": {
     "slide_type": "slide"
    }
   },
   "outputs": [
    {
     "name": "stdout",
     "output_type": "stream",
     "text": [
      " Results for Structure I\n",
      "Spectral Efficiency:  0.5584446077512906\n",
      "Spectral Power Density:  37287.258676487116\n",
      "Spectral TPV Efficiency:  0.20021911519848862\n"
     ]
    },
    {
     "data": {
      "image/png": "[encoded data removed]",
      "text/plain": [
       "<matplotlib.figure.Figure at 0x180a5dec88>"
      ]
     },
     "metadata": {},
     "output_type": "display_data"
    }
   ],
   "source": [
    "### Import WPTHERML class!\n",
    "from wptherml.wpml import multilayer\n",
    "from matplotlib import pyplot as plt\n",
    "from wptherml.datalib import datalib\n",
    "\n",
    "### Define structure!\n",
    "### Structure III in Fig 2\n",
    "structureIII = {\n",
    "         ### layer 2 is AlN for now, will make it an alloy later\n",
    "        'Material_List': ['Air', 'Al2O3', 'AlN', 'Al2O3', 'HfO2', 'Al2O3', 'HfO2', 'W', 'Air'],\n",
    "        'Thickness_List': [0, 100e-9, 75e-9, 92e-9, 216e-9, 92e-9, 216e-9, 900e-9, 0],\n",
    "        'Lambda_List': [400e-9, 6000e-9, 2000],\n",
    "        'Temperature': 1473,\n",
    "        'EXPLICIT_ANGLE': 1,\n",
    "        'STPV_EMIT': 1\n",
    "     \n",
    "        }\n",
    "### create instance of structureI called sI\n",
    "sIII = multilayer(structureIII)\n",
    "\n",
    "\n",
    "### change layer 2 of sIII to be the 16% TiN in AlN alloy\n",
    "sIII.layer_alloy(2, 0.16, 'AlN', 'TiN', 'Bruggeman')\n",
    "### need to recompute otical properties and figures of merit with the alloy layer\n",
    "sIII.fresnel()\n",
    "sIII.fresnel_ea()\n",
    "sIII.thermal_emission()\n",
    "sIII.thermal_emission_ea()\n",
    "sIII.stpv_se_ea()\n",
    "sIII.stpv_pd_ea()\n",
    "sIII.stpv_etatpv_ea()\n",
    "\n",
    "### create instance of multilayer class - results will be computed automiatically\n",
    "\n",
    "BB = datalib.BB(sIII.lambda_array, sIII.T_ml)\n",
    "\n",
    "print(\" Results for Structure I\")\n",
    "print(\"Spectral Efficiency: \",sIII.spectral_efficiency_val)\n",
    "print(\"Spectral Power Density: \",sIII.power_density_val)\n",
    "print(\"Spectral TPV Efficiency: \",sIII.tpv_efficiency_val)\n",
    "\n",
    "\n",
    "### plot results!\n",
    "plt.plot(sIII.lambda_array*1e9, sIII.thermal_emission_array, 'blue')\n",
    "plt.plot(sIII.lambda_array*1e9, BB, 'red')\n",
    "plt.show()\n",
    "\n",
    "for i in range(0,len(sII.lambda_array)):\n",
    "#for i in range(0,5):\n",
    "    p_array = []\n",
    "    avg_array = []\n",
    "    emiss_avg = 0.\n",
    "    ref_avg = 0.\n",
    "    te_avg = 0.\n",
    "    bb_avg = 0.\n",
    "    p_array.append(sII.lambda_array[i])\n",
    "    avg_array.append(sII.lambda_array[i])\n",
    "    p_array.append(BB[i])\n",
    "    for j in range(0,len(sII.t)):\n",
    "        p_array.append(sII.t[j]*180./np.pi)\n",
    "        p_array.append(sII.w[j]*np.cos(sII.t[j])*np.sin(sII.t[j]))\n",
    "        p_array.append(sII.reflectivity_array_p[j][i])\n",
    "        p_array.append(sII.reflectivity_array_s[j][i])\n",
    "        p_array.append(sII.emissivity_array_p[j][i])\n",
    "        p_array.append(sII.emissivity_array_s[j][i])\n",
    "        ### compute avg results\n",
    "        bb_avg = bb_avg + BB[i]*np.cos(sII.t[j])*np.sin(sII.t[j])*sII.w[j]\n",
    "        ref_avg = ref_avg + 0.5*(sII.reflectivity_array_p[j][i]+sII.reflectivity_array_s[j][i])*np.sin(sII.t[j])*sII.w[j]\n",
    "        emiss_avg = emiss_avg + 0.5*(sII.emissivity_array_p[j][i]+sII.emissivity_array_s[j][i])*np.sin(sII.t[j])*sII.w[j]\n",
    "        te_avg = te_avg + BB[i]*np.cos(sII.t[j])*0.5*(sII.emissivity_array_p[j][i]+sII.emissivity_array_s[j][i])*np.sin(sII.t[j])*sII.w[j]\n",
    "    #print(p_array)\n",
    "    avg_array.append(ref_avg)\n",
    "    avg_array.append(emiss_avg)\n",
    "    avg_array.append(bb_avg)\n",
    "    avg_array.append(te_avg)\n",
    "    print(avg_array)\n"
   ]
  },
  {
   "cell_type": "code",
   "execution_count": null,
   "metadata": {},
   "outputs": [],
   "source": []
  },
  {
   "cell_type": "code",
   "execution_count": null,
   "metadata": {},
   "outputs": [],
   "source": []
  }
 ],
 "metadata": {
  "kernelspec": {
   "display_name": "Python 3",
   "language": "python",
   "name": "python3"
  },
  "language_info": {
   "codemirror_mode": {
    "name": "ipython",
    "version": 3
   },
   "file_extension": ".py",
   "mimetype": "text/x-python",
   "name": "python",
   "nbconvert_exporter": "python",
   "pygments_lexer": "ipython3",
   "version": "3.6.4"
  }
 },
 "nbformat": 4,
 "nbformat_minor": 2
}
