{
 "cells": [
  {
   "cell_type": "markdown",
   "metadata": {},
   "source": [
    "This Notebook will examine the concept of the multi-junction STPV system where one has more than 1 PV cell and at least 1 selective thermal emitter.  Let us start by importing the wptherml and stpv libraries and also pyplot:"
   ]
  },
  {
   "cell_type": "code",
   "execution_count": 1,
   "metadata": {},
   "outputs": [],
   "source": [
    "from wptherml.wpml import multilayer\n",
    "from matplotlib import pyplot as plt\n",
    "from wptherml import stpvlib\n",
    "from wptherml.datalib import datalib"
   ]
  },
  {
   "cell_type": "markdown",
   "metadata": {},
   "source": [
    "Now we can define a simple thermal emitter... just a thick (900 nm) piece of Tungsten for now; we can set the temperature to a relatively hot 1500 K."
   ]
  },
  {
   "cell_type": "code",
   "execution_count": 2,
   "metadata": {},
   "outputs": [
    {
     "name": "stdout",
     "output_type": "stream",
     "text": [
      "  Gradient will be taken with respect to all layers! \n"
     ]
    },
    {
     "data": {
      "text/plain": [
       "1"
      ]
     },
     "execution_count": 2,
     "metadata": {},
     "output_type": "execute_result"
    }
   ],
   "source": [
    "### dictionary that defines the tungsten emitter at temperature 1500 K\n",
    "em = {\n",
    "        'Material_List': ['Air', 'W', 'Air'],\n",
    "        'Thickness_List': [0, 900e-9,  0],\n",
    "        'Lambda_List': [400e-9, 6000e-9, 1000],\n",
    "        'Temperature': 1500\n",
    "        }\n",
    "\n",
    "### create the instance of the multilayer\n",
    "emitter = multilayer(em)\n",
    "### make sure we compute the thermal emission spectrum of this structure!\n",
    "emitter.thermal_emission()\n"
   ]
  },
  {
   "cell_type": "markdown",
   "metadata": {},
   "source": [
    "Now define two more multilayers that will be the PV cells... top-most can \n",
    "be silicon ('Si') and the bottom cell can be InGaAs ('InGaAs').  It is unclear how thick they should be really (we can experiment), so for now let's make them 100 nm each... which is \n",
    "probably pretty thin in the grand scheme of things!"
   ]
  },
  {
   "cell_type": "code",
   "execution_count": 3,
   "metadata": {},
   "outputs": [
    {
     "name": "stdout",
     "output_type": "stream",
     "text": [
      "  Gradient will be taken with respect to all layers! \n",
      " Temperature not specified!\n",
      " Proceeding with default T = 300 K\n",
      "  Gradient will be taken with respect to all layers! \n",
      " Temperature not specified!\n",
      " Proceeding with default T = 300 K\n"
     ]
    }
   ],
   "source": [
    "\n",
    "pv2 = {\n",
    "        'Material_List': ['Air', 'InGaAs', 'Air'],\n",
    "        'Thickness_List': [0, 100e-9,  0],\n",
    "        'Lambda_List': [400e-9, 6000e-9, 1000]\n",
    "        }\n",
    "\n",
    "pv1 = {\n",
    "        'Material_List': ['Air', 'Si', 'Air'],\n",
    "        'Thickness_List': [0, 100e-9,  0],\n",
    "        'Lambda_List': [400e-9, 6000e-9, 1000]\n",
    "        }\n",
    "\n",
    "\n",
    "\n",
    "\n",
    "\n",
    "### create the instance called coated_au_film\n",
    "\n",
    "pv_1 = multilayer(pv1)\n",
    "pv_2 = multilayer(pv2)\n"
   ]
  },
  {
   "cell_type": "markdown",
   "metadata": {},
   "source": [
    "We defined a new function in stpvlib called 'jsc_multi' that will compute the short circuit current of a Silicon and InGaAs PV in tandem given an incident light source, presumably from the thermal emission of a selective emitter.  The following block of code invokes this function and returns the short-circuit current of the Silicon cell as jsc1 and the InGaAs cell as jsc2"
   ]
  },
  {
   "cell_type": "code",
   "execution_count": 4,
   "metadata": {},
   "outputs": [
    {
     "data": {
      "image/png": "[encoded data removed]",
      "text/plain": [
       "<matplotlib.figure.Figure at 0x1bbc15ebd68>"
      ]
     },
     "metadata": {},
     "output_type": "display_data"
    },
    {
     "name": "stdout",
     "output_type": "stream",
     "text": [
      "2.053675922390958\n",
      "87.01113026477333\n"
     ]
    }
   ],
   "source": [
    "jsc1, jsc2 = stpvlib.jsc_multi(emitter.lambda_array, emitter.thermal_emission_array, pv_1.emissivity_array, pv_2.emissivity_array, pv_1.transmissivity_array )\n",
    "print(jsc1)\n",
    "print(jsc2)\n"
   ]
  },
  {
   "cell_type": "markdown",
   "metadata": {},
   "source": [
    "### Question 1:  How do the short circuit current values vary if the solar spectrum is used instead of the thermal emission spectrum of the W emitter?\n",
    "Note that the solar spectrum can be obtained from the $datalib$ library and stored in a list called $AM$ by the following single line of code: \n",
    "`AM = datalib.AM(emitter.lambda_array)`"
   ]
  },
  {
   "cell_type": "markdown",
   "metadata": {},
   "source": [
    "### Question 2:  How do the short circuit current values change if the temperature of the W emitter is raised to 2000 K?\n",
    "\n",
    "### Question 3:  How do the short circuit current values change if the temperature of the W emitter is lowered to 1000 K?\n",
    "\n",
    "\n",
    "### Question 3:  How do the short circuit current values change when T = 1500 K but the emitter is made from titanium nitride ('TiN') rather than tungsten?"
   ]
  },
  {
   "cell_type": "markdown",
   "metadata": {},
   "source": [
    "### Excercise:  Plot the blackbody spectrum at 1500 K, the blackbody spectrum at 2000 K, and the solar spectrum against the Spectral Response Curve for silicon and for InGaAs.  Discuss if you think these two PV materials are best suited for the concept of multi-junction STPV.\n",
    "\n",
    "Note that the blackbody spectrum at 1500 K can be obtained with the following line of code:\n",
    "\n",
    "`bb_1500 = datalib.BB(emitter.lambda_array, 1500)`\n",
    "\n",
    "The spectral response of silicon with this line:\n",
    "\n",
    "`sr_si = datalib.SR_Si(emitter.lambda_array)`\n",
    "\n",
    "The spectral response of GaSb, which we are using to approximate InGaAs for now, with:\n",
    "\n",
    "`sr_ingaas = datalib.SR_GaSb(emitter.lambda_array)`\n"
   ]
  }
 ],
 "metadata": {
  "kernelspec": {
   "display_name": "Python 3",
   "language": "python",
   "name": "python3"
  },
  "language_info": {
   "codemirror_mode": {
    "name": "ipython",
    "version": 3
   },
   "file_extension": ".py",
   "mimetype": "text/x-python",
   "name": "python",
   "nbconvert_exporter": "python",
   "pygments_lexer": "ipython3",
   "version": "3.6.4"
  }
 },
 "nbformat": 4,
 "nbformat_minor": 2
}
