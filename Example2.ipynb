{
 "cells": [
  {
   "cell_type": "markdown",
   "metadata": {},
   "source": [
    "## Example 2: Luminous Efficiency of an incandescent source\n",
    "This notebook will take you through basic usage of the wptherml package to characterize incandescent light\n",
    "sources.  \n",
    "\n",
    "### Thermal Emission of Tungsten \n",
    "Ordinary incandescent sources consist of Tungsten filaments, so we can model them as a thick tungsten slab.\n",
    "The following lines will import the multilayer class and create an instance of the multilayer class called $w$_$slab$. \n",
    "Several basic properties of $w$_$slab$ will be defined by a dictionary called $structure$; additional keywords are defined in this dictionary, and are explained in comments.  To begin with, we will define a structure that consistes of a 900 nm thick piece of tungsten with air above and below at a temperature of 2400 K, which is standard for incandescent bulbs."
   ]
  },
  {
   "cell_type": "code",
   "execution_count": 10,
   "metadata": {},
   "outputs": [],
   "source": [
    "from wptherml.wpml import multilayer\n",
    "from matplotlib import pyplot as plt\n",
    "\n",
    "### dictionary that stores basic properties \n",
    "### of the multilayer structure you want to simulate\n",
    "structure = {\n",
    "        ### computation mode - inline means the structure and calculation\n",
    "        ### type will be determined from the values of this dictionary\n",
    "        'mode': 'Inline',\n",
    "        ### temperature of the structure - relevant for all thermal applications\n",
    "        ### value is stored in attribute self.T\n",
    "        'Temperature': 2400,\n",
    "        ### actual materials the structure is made from\n",
    "        ### values are stored in the attribute self.n\n",
    "        'Material_List': ['Air', 'W', 'Air'],\n",
    "        ### thickness of each layer... terminal layers must be set to zero\n",
    "        ### values are stored in attribute self.d\n",
    "        'Thickness_List': [0, 400e-9, 0],\n",
    "         ### range of wavelengths optical properties will be calculated for\n",
    "         ### values are stored in the array self.lam\n",
    "        'Lambda_List': [300e-9, 4000e-9, 1000],\n",
    "         ### The folloing entry will tell the computer to use the lightbulb functions to\n",
    "         ### compute properties needed to characterize an incandescent source\n",
    "         'LIGHTBULB': 1\n",
    "     \n",
    "        }\n",
    "\n",
    "### create the instance called glass_slab\n",
    "w_slab = multilayer(structure)\n",
    "\n",
    "\n"
   ]
  },
  {
   "cell_type": "markdown",
   "metadata": {},
   "source": [
    "Because we turned on the LIGHTBULB capabilities, the basic optical properties (reflectivity, transmissivity, absorptivity/emissivity) and thermal properties (thermal emission) are computed when w_slab is instantiated.  Additionally, the luminous efficiency and luminous efficacy of the structure is computed and stored\n",
    "as attributes self.eta_lum and self.lum_effic, respectively.  The luminous\n",
    "efficiency is just a number, and we can print it out as a percentage with the following line of code:"
   ]
  },
  {
   "cell_type": "code",
   "execution_count": 11,
   "metadata": {},
   "outputs": [
    {
     "name": "stdout",
     "output_type": "stream",
     "text": [
      "Luminous Efficiency is  2.24838631038 %\n"
     ]
    }
   ],
   "source": [
    "print(\"Luminous Efficiency is \",100*w_slab.eta_lum, \"%\")"
   ]
  },
  {
   "cell_type": "code",
   "execution_count": 13,
   "metadata": {},
   "outputs": [
    {
     "data": {
      "text/plain": [
       "[<matplotlib.lines.Line2D at 0x17310d5d7b8>]"
      ]
     },
     "execution_count": 13,
     "metadata": {},
     "output_type": "execute_result"
    }
   ],
   "source": [
    "### Plot the thermal emission of Tungsten with a red line\n",
    "plt.plot(w_slab.lam*1e9, w_slab.TE, 'red')\n",
    "### Plot the ideal thermal emission ith a blue line\n",
    "plt.plot(w_slab.lam*1e9, w_slab.ideal_incandescent, 'blue')\n",
    "### Plot the BB spectrum with a black line\n",
    "plt.plot(w_slab.lam*1e9, w_slab.BBs, 'black')"
   ]
  },
  {
   "cell_type": "markdown",
   "metadata": {},
   "source": [
    "We can also call a method called $ThermalColor$ to render the color of this structure."
   ]
  },
  {
   "cell_type": "code",
   "execution_count": 14,
   "metadata": {},
   "outputs": [
    {
     "data": {
      "image/png": "[encoded data removed]",
      "text/plain": [
       "<matplotlib.figure.Figure at 0x17310c1cac8>"
      ]
     },
     "metadata": {},
     "output_type": "display_data"
    },
    {
     "data": {
      "image/png": "[encoded data removed]",
      "text/plain": [
       "<matplotlib.figure.Figure at 0x17310c1c2b0>"
      ]
     },
     "metadata": {},
     "output_type": "display_data"
    },
    {
     "data": {
      "text/plain": [
       "1"
      ]
     },
     "execution_count": 14,
     "metadata": {},
     "output_type": "execute_result"
    }
   ],
   "source": [
    "w_slab.ThermalColor()"
   ]
  },
  {
   "cell_type": "markdown",
   "metadata": {},
   "source": [
    "### Coated Structure\n",
    "We can see how applying a coating to the tungsten can change its properties by defining a new structure called 'coated_w' as follows:"
   ]
  },
  {
   "cell_type": "code",
   "execution_count": 15,
   "metadata": {
    "collapsed": true
   },
   "outputs": [],
   "source": [
    "structure[\"Material_List\"] = ['Air', 'SiO2', 'W', 'Air']\n",
    "structure[\"Thickness_List\"] = [0, 50e-9, 900e-9, 0]\n",
    "coated_w = multilayer(structure)"
   ]
  },
  {
   "cell_type": "markdown",
   "metadata": {},
   "source": [
    "Now we can compare the thermal emission of the coated W structure to the w slab structure as follows:"
   ]
  },
  {
   "cell_type": "code",
   "execution_count": 16,
   "metadata": {},
   "outputs": [
    {
     "data": {
      "image/png": "[encoded data removed]",
      "text/plain": [
       "<matplotlib.figure.Figure at 0x17310d64da0>"
      ]
     },
     "metadata": {},
     "output_type": "display_data"
    }
   ],
   "source": [
    "\n",
    "\n",
    "### Plot Thermal Emission of bare W slab with a red line\n",
    "plt.plot(w_slab.lam*1e9, w_slab.TE, 'red')\n",
    "### Plot Thermal Emission of coated W with a blue line\n",
    "plt.plot(coated_w.lam*1e9, coated_w.TE, 'blue')\n",
    "### Plot blackbody spectrum with a black line\n",
    "plt.plot(w_slab.lam*1e9, w_slab.BBs, 'black')\n",
    "plt.show()\n"
   ]
  },
  {
   "cell_type": "markdown",
   "metadata": {},
   "source": [
    "We can compare the luminous efficiency of the two structures as follows:"
   ]
  },
  {
   "cell_type": "code",
   "execution_count": 17,
   "metadata": {},
   "outputs": [
    {
     "name": "stdout",
     "output_type": "stream",
     "text": [
      " Efficiency of bare W is  2.24838631038 %\n",
      " Efficiency of coated W is  2.65010655407 %\n",
      " Difference is  0.401720243689 %\n"
     ]
    }
   ],
   "source": [
    "print(\" Efficiency of bare W is \",100*w_slab.eta_lum, \"%\")\n",
    "print(\" Efficiency of coated W is \",100*coated_w.eta_lum, \"%\")\n",
    "print(\" Difference is \",100*(coated_w.eta_lum - w_slab.eta_lum),\"%\")"
   ]
  },
  {
   "cell_type": "markdown",
   "metadata": {},
   "source": [
    "We can also see how changing the thickness of the glass coating impacts the efficiency.  In particular, we will loop through different coatings thicknesses and store the results in an array called 'eta_vs_d'. "
   ]
  },
  {
   "cell_type": "code",
   "execution_count": null,
   "metadata": {},
   "outputs": [],
   "source": [
    "### method to compute reflectivity, transmissivity, and absorptivity vs angle at a specified\n",
    "### wavelength... results are stored in the attributes\n",
    "### self.r_vs_theta, self.t_vs_theta, and self.eps_vs_theta... array of angles is self.theta_array\n",
    "import numpy as np\n",
    "eta_vs_d = np.zeros(200)\n",
    "d_array = np.linspace(10e-9,400e-9,200)\n",
    "i = 0\n",
    "for dsio2 in d_array:\n",
    "    coated_w.d[1] = dsio2\n",
    "    coated_w.Fresnel()\n",
    "    coated_w.ThermalEmission()\n",
    "    coated_w.LuminousEfficiency()\n",
    "    eta_vs_d[i] = coated_w.eta_lum\n",
    "    i = i + 1\n",
    "\n",
    "plt.plot(d_array, eta_vs_d, 'red')\n",
    "plt.show()\n",
    "#plt.plot(180/np.pi*glass_slab.theta_array, glass_slab.r_vs_theta, 'red')\n",
    "#plt.show()"
   ]
  },
  {
   "cell_type": "code",
   "execution_count": null,
   "metadata": {
    "collapsed": true
   },
   "outputs": [],
   "source": []
  },
  {
   "cell_type": "code",
   "execution_count": null,
   "metadata": {
    "collapsed": true
   },
   "outputs": [],
   "source": []
  },
  {
   "cell_type": "code",
   "execution_count": null,
   "metadata": {
    "collapsed": true
   },
   "outputs": [],
   "source": []
  },
  {
   "cell_type": "code",
   "execution_count": null,
   "metadata": {
    "collapsed": true
   },
   "outputs": [],
   "source": []
  },
  {
   "cell_type": "code",
   "execution_count": null,
   "metadata": {
    "collapsed": true
   },
   "outputs": [],
   "source": []
  }
 ],
 "metadata": {
  "kernelspec": {
   "display_name": "Python 3",
   "language": "python",
   "name": "python3"
  },
  "language_info": {
   "codemirror_mode": {
    "name": "ipython",
    "version": 3
   },
   "file_extension": ".py",
   "mimetype": "text/x-python",
   "name": "python",
   "nbconvert_exporter": "python",
   "pygments_lexer": "ipython3",
   "version": "3.6.3"
  }
 },
 "nbformat": 4,
 "nbformat_minor": 2
}
