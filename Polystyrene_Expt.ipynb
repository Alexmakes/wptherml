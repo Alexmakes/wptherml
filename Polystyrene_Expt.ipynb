{
 "cells": [
  {
   "cell_type": "code",
   "execution_count": null,
   "metadata": {},
   "outputs": [],
   "source": [
    "from wptherml.wpml import multilayer\n",
    "from matplotlib import pyplot as plt\n",
    "\n",
    "d = 1e-3\n",
    "### This will define the base filter that will be optimized\n",
    "structure = {\n",
    "        'Material_List' : ['Air', 'PS', 'Al', 'SiO2', 'Air'],\n",
    "        ### Thicknesses just chosen arbitrarily, replace with \"optimal\" values\n",
    "        'Thickness_List': [0, d, 10e-9, 900e-9, 0 ],\n",
    "        'Lambda_List': [300e-9, 6000e-9, 500],\n",
    "        'Temperature': 300\n",
    "\n",
    "       }\n",
    "\n",
    "ps = multilayer(structure)\n",
    "plt.plot(ps.lambda_array*1e9, ps.reflectivity_array, 'red')\n",
    "plt.plot(ps.lambda_array*1e9, ps.emissivity_array, 'blue')\n",
    "plt.show()"
   ]
  },
  {
   "cell_type": "code",
   "execution_count": null,
   "metadata": {},
   "outputs": [],
   "source": []
  }
 ],
 "metadata": {
  "kernelspec": {
   "display_name": "Python 3",
   "language": "python",
   "name": "python3"
  },
  "language_info": {
   "codemirror_mode": {
    "name": "ipython",
    "version": 3
   },
   "file_extension": ".py",
   "mimetype": "text/x-python",
   "name": "python",
   "nbconvert_exporter": "python",
   "pygments_lexer": "ipython3",
   "version": "3.7.4"
  }
 },
 "nbformat": 4,
 "nbformat_minor": 2
}
